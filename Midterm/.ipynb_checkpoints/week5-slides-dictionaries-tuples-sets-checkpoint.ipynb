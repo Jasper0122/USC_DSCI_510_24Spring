{
 "cells": [
  {
   "cell_type": "markdown",
   "metadata": {},
   "source": [
    "# Dictionary"
   ]
  },
  {
   "cell_type": "code",
   "execution_count": 1,
   "metadata": {},
   "outputs": [],
   "source": [
    "ages = {'Bob' : 27, 'Alice' : 28, 'Bill' : 17}"
   ]
  },
  {
   "cell_type": "code",
   "execution_count": 2,
   "metadata": {},
   "outputs": [
    {
     "name": "stdout",
     "output_type": "stream",
     "text": [
      "{'Bob': 27, 'Alice': 28, 'Bill': 17}\n"
     ]
    }
   ],
   "source": [
    "print(ages)  # DO NOT rely on ordering"
   ]
  },
  {
   "cell_type": "code",
   "execution_count": 3,
   "metadata": {
    "scrolled": true
   },
   "outputs": [
    {
     "ename": "KeyError",
     "evalue": "'Sarah'",
     "output_type": "error",
     "traceback": [
      "\u001b[0;31m---------------------------------------------------------------------------\u001b[0m",
      "\u001b[0;31mKeyError\u001b[0m                                  Traceback (most recent call last)",
      "Cell \u001b[0;32mIn[3], line 1\u001b[0m\n\u001b[0;32m----> 1\u001b[0m \u001b[43mages\u001b[49m\u001b[43m[\u001b[49m\u001b[38;5;124;43m'\u001b[39;49m\u001b[38;5;124;43mSarah\u001b[39;49m\u001b[38;5;124;43m'\u001b[39;49m\u001b[43m]\u001b[49m\n",
      "\u001b[0;31mKeyError\u001b[0m: 'Sarah'"
     ]
    }
   ],
   "source": [
    "ages['Sarah']"
   ]
  },
  {
   "cell_type": "code",
   "execution_count": 4,
   "metadata": {},
   "outputs": [
    {
     "data": {
      "text/plain": [
       "{'Bob': 27, 'Alice': 28, 'Bill': 17, 'Sarah': 18}"
      ]
     },
     "execution_count": 4,
     "metadata": {},
     "output_type": "execute_result"
    }
   ],
   "source": [
    "ages['Sarah'] = 18\n",
    "ages"
   ]
  },
  {
   "cell_type": "code",
   "execution_count": 5,
   "metadata": {},
   "outputs": [
    {
     "data": {
      "text/plain": [
       "{'Bob': 22, 'Alice': 28, 'Bill': 17, 'Sarah': 18}"
      ]
     },
     "execution_count": 5,
     "metadata": {},
     "output_type": "execute_result"
    }
   ],
   "source": [
    "ages['Bob'] = ages['Sarah'] + 4\n",
    "ages"
   ]
  },
  {
   "cell_type": "code",
   "execution_count": 6,
   "metadata": {},
   "outputs": [
    {
     "name": "stdout",
     "output_type": "stream",
     "text": [
      "None\n"
     ]
    }
   ],
   "source": [
    "print(ages.get('Karl'))"
   ]
  },
  {
   "cell_type": "code",
   "execution_count": 7,
   "metadata": {},
   "outputs": [
    {
     "data": {
      "text/plain": [
       "{'Bob': 22, 'Alice': 28, 'Bill': 17, 'Sarah': 18}"
      ]
     },
     "execution_count": 7,
     "metadata": {},
     "output_type": "execute_result"
    }
   ],
   "source": [
    "ages"
   ]
  },
  {
   "cell_type": "code",
   "execution_count": 8,
   "metadata": {},
   "outputs": [
    {
     "data": {
      "text/plain": [
       "{'Bob': 22, 'Alice': 28, 'Bill': 17, 'Sarah': 18, 'Karl': 22}"
      ]
     },
     "execution_count": 8,
     "metadata": {},
     "output_type": "execute_result"
    }
   ],
   "source": [
    "ages['Karl'] = 22\n",
    "ages"
   ]
  },
  {
   "cell_type": "code",
   "execution_count": 9,
   "metadata": {},
   "outputs": [
    {
     "data": {
      "text/plain": [
       "{'Bob': 22, 'Alice': 28, 'Bill': 17, 'Sarah': 18, 'Karl': 22, 'Joe': 30}"
      ]
     },
     "execution_count": 9,
     "metadata": {},
     "output_type": "execute_result"
    }
   ],
   "source": [
    "ages.update({'Joe': 30}) # Add a new key, value pair to the dictionary\n",
    "ages"
   ]
  },
  {
   "cell_type": "code",
   "execution_count": 10,
   "metadata": {},
   "outputs": [
    {
     "data": {
      "text/plain": [
       "{'Bob': 22, 'Alice': 28, 'Bill': 17, 'Sarah': 22, 'Karl': 22, 'Joe': 35}"
      ]
     },
     "execution_count": 10,
     "metadata": {},
     "output_type": "execute_result"
    }
   ],
   "source": [
    "ages.update({'Joe': 35}) # Update an existing key with a new value \n",
    "ages['Sarah'] = 22 # Or simply use assignment to update an existing key with a new value \n",
    "ages"
   ]
  },
  {
   "cell_type": "code",
   "execution_count": 11,
   "metadata": {},
   "outputs": [
    {
     "data": {
      "text/plain": [
       "17"
      ]
     },
     "execution_count": 11,
     "metadata": {},
     "output_type": "execute_result"
    }
   ],
   "source": [
    "ages.pop('Bill')"
   ]
  },
  {
   "cell_type": "code",
   "execution_count": 12,
   "metadata": {},
   "outputs": [
    {
     "data": {
      "text/plain": [
       "{'Bob': 22, 'Alice': 28, 'Sarah': 22, 'Karl': 22, 'Joe': 35}"
      ]
     },
     "execution_count": 12,
     "metadata": {},
     "output_type": "execute_result"
    }
   ],
   "source": [
    "ages"
   ]
  },
  {
   "cell_type": "code",
   "execution_count": 13,
   "metadata": {
    "scrolled": true
   },
   "outputs": [
    {
     "ename": "TypeError",
     "evalue": "pop expected at least 1 argument, got 0",
     "output_type": "error",
     "traceback": [
      "\u001b[0;31m---------------------------------------------------------------------------\u001b[0m",
      "\u001b[0;31mTypeError\u001b[0m                                 Traceback (most recent call last)",
      "Cell \u001b[0;32mIn[13], line 1\u001b[0m\n\u001b[0;32m----> 1\u001b[0m \u001b[43mages\u001b[49m\u001b[38;5;241;43m.\u001b[39;49m\u001b[43mpop\u001b[49m\u001b[43m(\u001b[49m\u001b[43m)\u001b[49m\n",
      "\u001b[0;31mTypeError\u001b[0m: pop expected at least 1 argument, got 0"
     ]
    }
   ],
   "source": [
    "ages.pop()"
   ]
  },
  {
   "cell_type": "markdown",
   "metadata": {},
   "source": [
    "### Dictionary keys are unique"
   ]
  },
  {
   "cell_type": "code",
   "execution_count": 14,
   "metadata": {},
   "outputs": [
    {
     "data": {
      "text/plain": [
       "{'Bob': 28, 'Alice': 28, 'Bill': 17}"
      ]
     },
     "execution_count": 14,
     "metadata": {},
     "output_type": "execute_result"
    }
   ],
   "source": [
    "ages = {'Bob' : 27, 'Alice' : 28, 'Bob': 28, 'Bill' : 17}\n",
    "ages"
   ]
  },
  {
   "cell_type": "markdown",
   "metadata": {},
   "source": [
    "### Both the keys and values of the dictionary are evaluated when it's defined"
   ]
  },
  {
   "cell_type": "code",
   "execution_count": 15,
   "metadata": {},
   "outputs": [
    {
     "data": {
      "text/plain": [
       "{'xxx': 1, 'yyy': 8}"
      ]
     },
     "execution_count": 15,
     "metadata": {},
     "output_type": "execute_result"
    }
   ],
   "source": [
    "a = 'xxx'\n",
    "b = 'yyy'\n",
    "x = 2\n",
    "dict1 = {a: 1, b: x**3}\n",
    "dict1"
   ]
  },
  {
   "cell_type": "markdown",
   "metadata": {},
   "source": [
    "### Counting occurrences with a dictionary"
   ]
  },
  {
   "cell_type": "code",
   "execution_count": 16,
   "metadata": {},
   "outputs": [
    {
     "name": "stdin",
     "output_type": "stream",
     "text": [
      "Enter a line of text:\n",
      " the clown ran after the car and the car ran into the tent and the tent fell down on the clown and the car\n"
     ]
    },
    {
     "name": "stdout",
     "output_type": "stream",
     "text": [
      "Words: ['the', 'clown', 'ran', 'after', 'the', 'car', 'and', 'the', 'car', 'ran', 'into', 'the', 'tent', 'and', 'the', 'tent', 'fell', 'down', 'on', 'the', 'clown', 'and', 'the', 'car']\n",
      "Counting...\n",
      "Counts {'the': 7, 'clown': 2, 'ran': 2, 'after': 1, 'car': 3, 'and': 3, 'into': 1, 'tent': 2, 'fell': 1, 'down': 1, 'on': 1}\n"
     ]
    }
   ],
   "source": [
    "# the clown ran after the car and the car ran into the tent and the tent fell down on the clown and the car\n",
    "counts = dict()\n",
    "line = input('Enter a line of text:\\n')\n",
    "words = line.split()\n",
    "print('Words:', words)\n",
    "print('Counting...')\n",
    "for word in words:\n",
    "    counts[word] = counts.get(word,0) + 1\n",
    "print('Counts', counts)"
   ]
  },
  {
   "cell_type": "markdown",
   "metadata": {},
   "source": [
    "### We can go through a dictionary with a definite loop"
   ]
  },
  {
   "cell_type": "code",
   "execution_count": 17,
   "metadata": {},
   "outputs": [
    {
     "name": "stdout",
     "output_type": "stream",
     "text": [
      "the 7\n",
      "clown 2\n",
      "ran 2\n",
      "after 1\n",
      "car 3\n",
      "and 3\n",
      "into 1\n",
      "tent 2\n",
      "fell 1\n",
      "down 1\n",
      "on 1\n"
     ]
    }
   ],
   "source": [
    "for key in counts:\n",
    "    print(key, counts[key])"
   ]
  },
  {
   "cell_type": "code",
   "execution_count": 18,
   "metadata": {},
   "outputs": [
    {
     "data": {
      "text/plain": [
       "dict_keys(['the', 'clown', 'ran', 'after', 'car', 'and', 'into', 'tent', 'fell', 'down', 'on'])"
      ]
     },
     "execution_count": 18,
     "metadata": {},
     "output_type": "execute_result"
    }
   ],
   "source": [
    "counts.keys()"
   ]
  },
  {
   "cell_type": "code",
   "execution_count": 19,
   "metadata": {},
   "outputs": [
    {
     "name": "stdout",
     "output_type": "stream",
     "text": [
      "['the', 'clown', 'ran', 'after', 'car', 'and', 'into', 'tent', 'fell', 'down', 'on']\n"
     ]
    }
   ],
   "source": [
    "print(list(counts.keys()))"
   ]
  },
  {
   "cell_type": "markdown",
   "metadata": {},
   "source": [
    "Note how the 'list' function turns that into an actual list structure. However, Python allows us to iterate on the result of 'counts.keys()' as if it were the same."
   ]
  },
  {
   "cell_type": "code",
   "execution_count": 20,
   "metadata": {
    "scrolled": true
   },
   "outputs": [
    {
     "name": "stdout",
     "output_type": "stream",
     "text": [
      "[7, 2, 2, 1, 3, 3, 1, 2, 1, 1, 1]\n"
     ]
    }
   ],
   "source": [
    "print(list(counts.values()))"
   ]
  },
  {
   "cell_type": "code",
   "execution_count": 21,
   "metadata": {
    "scrolled": true
   },
   "outputs": [
    {
     "name": "stdout",
     "output_type": "stream",
     "text": [
      "[('the', 7), ('clown', 2), ('ran', 2), ('after', 1), ('car', 3), ('and', 3), ('into', 1), ('tent', 2), ('fell', 1), ('down', 1), ('on', 1)]\n"
     ]
    }
   ],
   "source": [
    "print(list(counts.items()))"
   ]
  },
  {
   "cell_type": "markdown",
   "metadata": {},
   "source": [
    "Notice that counts.items() is not the same as the value of 'counts'! <br/>\n",
    "List of tuples vs dictionary"
   ]
  },
  {
   "cell_type": "code",
   "execution_count": 22,
   "metadata": {},
   "outputs": [
    {
     "name": "stdout",
     "output_type": "stream",
     "text": [
      "{'the': 7, 'clown': 2, 'ran': 2, 'after': 1, 'car': 3, 'and': 3, 'into': 1, 'tent': 2, 'fell': 1, 'down': 1, 'on': 1}\n"
     ]
    }
   ],
   "source": [
    "print(counts)"
   ]
  },
  {
   "cell_type": "markdown",
   "metadata": {},
   "source": [
    "### Iterating over dictionary items, both keys and values, at the same time"
   ]
  },
  {
   "cell_type": "code",
   "execution_count": 23,
   "metadata": {},
   "outputs": [
    {
     "name": "stdout",
     "output_type": "stream",
     "text": [
      "the appears 7 times\n",
      "clown appears 2 times\n",
      "ran appears 2 times\n",
      "after appears 1 times\n",
      "car appears 3 times\n",
      "and appears 3 times\n",
      "into appears 1 times\n",
      "tent appears 2 times\n",
      "fell appears 1 times\n",
      "down appears 1 times\n",
      "on appears 1 times\n"
     ]
    }
   ],
   "source": [
    "for word, count in counts.items():\n",
    "    print(word, 'appears', count, 'times')"
   ]
  },
  {
   "cell_type": "markdown",
   "metadata": {},
   "source": [
    "### And now to find the most frequent word in any text file:\n",
    "\n",
    "### (Try 'romeo.txt', 'clown.txt', 'mbox.txt', 'mbox-short.txt')"
   ]
  },
  {
   "cell_type": "markdown",
   "metadata": {},
   "source": [
    "__Content of file _romeo.txt_:__<br>\n",
    "But soft what light through yonder window breaks<br>\n",
    "It is the east and Juliet is the sun<br>\n",
    "Arise fair sun and kill the envious moon<br>\n",
    "Who is already sick and pale with grief<br>"
   ]
  },
  {
   "cell_type": "markdown",
   "metadata": {},
   "source": [
    "__Content of file _clown.txt_:__<br>\n",
    "the clown ran after the car and the car ran into the tent and the tent fell down on the clown and the car"
   ]
  },
  {
   "cell_type": "code",
   "execution_count": 24,
   "metadata": {},
   "outputs": [
    {
     "name": "stdin",
     "output_type": "stream",
     "text": [
      "Enter file:  romeo.txt\n"
     ]
    },
    {
     "name": "stdout",
     "output_type": "stream",
     "text": [
      "{'But': 1, 'soft': 1, 'what': 1, 'light': 1, 'through': 1, 'yonder': 1, 'window': 1, 'breaks': 1, 'It': 1, 'is': 3, 'the': 3, 'east': 1, 'and': 3, 'Juliet': 1, 'sun': 2, 'Arise': 1, 'fair': 1, 'kill': 1, 'envious': 1, 'moon': 1, 'Who': 1, 'already': 1, 'sick': 1, 'pale': 1, 'with': 1, 'grief': 1}\n",
      "is appears 3 times\n"
     ]
    }
   ],
   "source": [
    "name = input('Enter file: ')\n",
    "handle = open(name)\n",
    "text = handle.read()\n",
    "words = text.split()\n",
    "counts = dict()\n",
    "for word in words:\n",
    "    counts[word] = counts.get(word,0) + 1\n",
    "print(counts)\n",
    "    \n",
    "bigcount = None\n",
    "bigword = None\n",
    "for word,count in counts.items():\n",
    "    if bigcount is None or count > bigcount:\n",
    "        bigword = word\n",
    "        bigcount = count\n",
    "print (bigword, 'appears', bigcount, 'times')"
   ]
  },
  {
   "cell_type": "markdown",
   "metadata": {},
   "source": [
    "## Copying Dictionaries: Shallow and Deep Copy"
   ]
  },
  {
   "cell_type": "code",
   "execution_count": 25,
   "metadata": {},
   "outputs": [],
   "source": [
    "d1 = {'a': 1, 'b': {'c':3, 'd':4}, 'e':5}"
   ]
  },
  {
   "cell_type": "code",
   "execution_count": 26,
   "metadata": {},
   "outputs": [],
   "source": [
    "d2 = d1  # assignment both d1 and d2 point to the same location in memory"
   ]
  },
  {
   "cell_type": "code",
   "execution_count": 27,
   "metadata": {},
   "outputs": [
    {
     "data": {
      "text/plain": [
       "True"
      ]
     },
     "execution_count": 27,
     "metadata": {},
     "output_type": "execute_result"
    }
   ],
   "source": [
    "d1 == d2"
   ]
  },
  {
   "cell_type": "code",
   "execution_count": 28,
   "metadata": {
    "scrolled": true
   },
   "outputs": [
    {
     "data": {
      "text/plain": [
       "True"
      ]
     },
     "execution_count": 28,
     "metadata": {},
     "output_type": "execute_result"
    }
   ],
   "source": [
    "d1 is d2"
   ]
  },
  {
   "cell_type": "code",
   "execution_count": 29,
   "metadata": {},
   "outputs": [
    {
     "name": "stdout",
     "output_type": "stream",
     "text": [
      "140573599583744\n",
      "140573599583744\n"
     ]
    }
   ],
   "source": [
    "# id() returns a unique integer for each object in Python. In the CPython implementation is the memory address\n",
    "print(id(d1))\n",
    "print(id(d2))"
   ]
  },
  {
   "cell_type": "code",
   "execution_count": 30,
   "metadata": {},
   "outputs": [
    {
     "name": "stdout",
     "output_type": "stream",
     "text": [
      "{'a': 1, 'b': {'c': 3, 'd': 4}, 'e': 55}\n",
      "{'a': 1, 'b': {'c': 3, 'd': 4}, 'e': 55}\n"
     ]
    }
   ],
   "source": [
    "d1['e'] = 55\n",
    "print(d1)\n",
    "print(d2)"
   ]
  },
  {
   "cell_type": "code",
   "execution_count": 31,
   "metadata": {},
   "outputs": [],
   "source": [
    "d3 = d1.copy() # shallow copy "
   ]
  },
  {
   "cell_type": "code",
   "execution_count": 32,
   "metadata": {},
   "outputs": [
    {
     "data": {
      "text/plain": [
       "True"
      ]
     },
     "execution_count": 32,
     "metadata": {},
     "output_type": "execute_result"
    }
   ],
   "source": [
    "d3 == d1"
   ]
  },
  {
   "cell_type": "code",
   "execution_count": 33,
   "metadata": {
    "scrolled": true
   },
   "outputs": [
    {
     "data": {
      "text/plain": [
       "False"
      ]
     },
     "execution_count": 33,
     "metadata": {},
     "output_type": "execute_result"
    }
   ],
   "source": [
    "d3 is d1  # d1 and d3 are at different locations in memory"
   ]
  },
  {
   "cell_type": "code",
   "execution_count": 34,
   "metadata": {},
   "outputs": [
    {
     "name": "stdout",
     "output_type": "stream",
     "text": [
      "140573599583744\n",
      "140573599583744\n",
      "140573599585088\n"
     ]
    }
   ],
   "source": [
    "print(id(d1))\n",
    "print(id(d2))\n",
    "print(id(d3))"
   ]
  },
  {
   "cell_type": "code",
   "execution_count": 35,
   "metadata": {},
   "outputs": [
    {
     "name": "stdout",
     "output_type": "stream",
     "text": [
      "{'a': 1, 'b': {'c': 3, 'd': 4}, 'e': 55}\n",
      "{'a': 1, 'b': {'c': 3, 'd': 4}, 'e': 55}\n",
      "{'a': 3, 'b': {'c': 3, 'd': 4}, 'e': 55}\n"
     ]
    }
   ],
   "source": [
    "d3['a'] = 3\n",
    "print(d1)\n",
    "print(d2)\n",
    "print(d3)"
   ]
  },
  {
   "cell_type": "code",
   "execution_count": 36,
   "metadata": {},
   "outputs": [
    {
     "data": {
      "text/plain": [
       "4"
      ]
     },
     "execution_count": 36,
     "metadata": {},
     "output_type": "execute_result"
    }
   ],
   "source": [
    "d3['b']['d'] "
   ]
  },
  {
   "cell_type": "code",
   "execution_count": 37,
   "metadata": {},
   "outputs": [
    {
     "name": "stdout",
     "output_type": "stream",
     "text": [
      "{'a': 1, 'b': {'c': 3, 'd': 77}, 'e': 55}\n",
      "{'a': 1, 'b': {'c': 3, 'd': 77}, 'e': 55}\n",
      "{'a': 3, 'b': {'c': 3, 'd': 77}, 'e': 55}\n"
     ]
    }
   ],
   "source": [
    "d2['b']['d'] = 77\n",
    "print(d1)\n",
    "print(d2)\n",
    "print(d3)"
   ]
  },
  {
   "cell_type": "code",
   "execution_count": 38,
   "metadata": {},
   "outputs": [
    {
     "data": {
      "text/plain": [
       "{'a': 1, 'b': {'c': 3, 'd': 77}, 'e': 55}"
      ]
     },
     "execution_count": 38,
     "metadata": {},
     "output_type": "execute_result"
    }
   ],
   "source": [
    "import copy\n",
    "d4 = copy.deepcopy(d1)\n",
    "d4"
   ]
  },
  {
   "cell_type": "code",
   "execution_count": 39,
   "metadata": {},
   "outputs": [
    {
     "data": {
      "text/plain": [
       "3"
      ]
     },
     "execution_count": 39,
     "metadata": {},
     "output_type": "execute_result"
    }
   ],
   "source": [
    "d1['b']['c']"
   ]
  },
  {
   "cell_type": "code",
   "execution_count": 40,
   "metadata": {},
   "outputs": [
    {
     "name": "stdout",
     "output_type": "stream",
     "text": [
      "{'a': 1, 'b': {'c': 99, 'd': 77}, 'e': 55}\n",
      "{'a': 1, 'b': {'c': 99, 'd': 77}, 'e': 55}\n",
      "{'a': 3, 'b': {'c': 99, 'd': 77}, 'e': 55}\n",
      "{'a': 1, 'b': {'c': 3, 'd': 77}, 'e': 55}\n"
     ]
    }
   ],
   "source": [
    "d1['b']['c'] = 99\n",
    "print(d1)\n",
    "print(d2)\n",
    "print(d3)\n",
    "print(d4)"
   ]
  },
  {
   "cell_type": "markdown",
   "metadata": {},
   "source": [
    "back to slides"
   ]
  },
  {
   "cell_type": "markdown",
   "metadata": {},
   "source": [
    "---\n",
    "# Sorting Dictionaries"
   ]
  },
  {
   "cell_type": "markdown",
   "metadata": {},
   "source": [
    "Starting with Python 3.7, dictionaries preserve their order of initialization."
   ]
  },
  {
   "cell_type": "code",
   "execution_count": 58,
   "metadata": {},
   "outputs": [],
   "source": [
    "word_counts = {'car': 1, 'drove': 2, \"the\": 4, \"girl\": 1}"
   ]
  },
  {
   "cell_type": "code",
   "execution_count": 60,
   "metadata": {},
   "outputs": [
    {
     "data": {
      "text/plain": [
       "[('car', 1), ('drove', 2), ('the', 4), ('girl', 1)]"
      ]
     },
     "execution_count": 60,
     "metadata": {},
     "output_type": "execute_result"
    }
   ],
   "source": [
    "list(word_counts.items())"
   ]
  },
  {
   "cell_type": "code",
   "execution_count": 41,
   "metadata": {},
   "outputs": [
    {
     "name": "stdout",
     "output_type": "stream",
     "text": [
      "car 1\n",
      "drove 2\n",
      "the 4\n",
      "girl 1\n"
     ]
    }
   ],
   "source": [
    "word_counts = {'car': 1, 'drove': 2, \"the\": 4, \"girl\": 1}\n",
    "for word in word_counts:\n",
    "    print(word, word_counts[word])"
   ]
  },
  {
   "cell_type": "markdown",
   "metadata": {},
   "source": [
    "__Sorting by key:__"
   ]
  },
  {
   "cell_type": "code",
   "execution_count": 42,
   "metadata": {},
   "outputs": [
    {
     "name": "stdout",
     "output_type": "stream",
     "text": [
      "car 1\n",
      "drove 2\n",
      "girl 1\n",
      "the 4\n"
     ]
    }
   ],
   "source": [
    "word_counts = {'car': 1, 'drove': 2, \"the\": 4, \"girl\": 1}\n",
    "for word in sorted(word_counts):\n",
    "    print(word, word_counts[word])"
   ]
  },
  {
   "cell_type": "markdown",
   "metadata": {},
   "source": [
    "__Sorting by value:__"
   ]
  },
  {
   "cell_type": "code",
   "execution_count": 48,
   "metadata": {},
   "outputs": [
    {
     "name": "stdout",
     "output_type": "stream",
     "text": [
      "the 4\n",
      "drove 2\n",
      "car 1\n",
      "girl 1\n"
     ]
    }
   ],
   "source": [
    "word_counts = {'car': 1, 'drove': 2, \"the\": 4, \"girl\": 1}\n",
    "for word in sorted(word_counts, key=word_counts.get, reverse=True):\n",
    "    print(word, word_counts[word])"
   ]
  },
  {
   "cell_type": "markdown",
   "metadata": {},
   "source": [
    "__Sorting by value using a lambda function__<br>\n",
    "Using a _function_ as a _sorting key_ adds a lot of flexibility.<br>\n",
    "A _lambda function_ is a small anonymous function, i.e. a function that has only a single expression and no name.\n",
    "\n",
    "In the examples below, we sort over the word_counts.items(), i.e. (key, value) tuples.<br>\n",
    "Therefore, the input _x_ of the lambda function is a (key, value) tuple,<br>\n",
    "so _x[0]_ refers to the key and _x[1]_ refers to the value of the (key, value) tuple."
   ]
  },
  {
   "cell_type": "code",
   "execution_count": 49,
   "metadata": {},
   "outputs": [
    {
     "name": "stdout",
     "output_type": "stream",
     "text": [
      "the 4\n",
      "drove 2\n",
      "car 1\n",
      "girl 1\n"
     ]
    }
   ],
   "source": [
    "word_counts = {'car': 1, 'drove': 2, \"the\": 4, \"girl\": 1}\n",
    "for word, count in sorted(word_counts.items(), key=lambda x: x[1], reverse=True):\n",
    "    print(word, count)"
   ]
  },
  {
   "cell_type": "markdown",
   "metadata": {},
   "source": [
    "__Sorting by length of key:__"
   ]
  },
  {
   "cell_type": "code",
   "execution_count": 50,
   "metadata": {},
   "outputs": [
    {
     "name": "stdout",
     "output_type": "stream",
     "text": [
      "drove 2\n",
      "girl 1\n",
      "car 1\n",
      "the 4\n"
     ]
    }
   ],
   "source": [
    "word_counts = {'car': 1, 'drove': 2, \"the\": 4, \"girl\": 1}\n",
    "for word, count in sorted(word_counts.items(), key=lambda x: len(x[0]), reverse=True):\n",
    "    print(word, count)"
   ]
  },
  {
   "cell_type": "markdown",
   "metadata": {},
   "source": [
    "__Same code, but with lambda function expanded to regular function:__"
   ]
  },
  {
   "cell_type": "code",
   "execution_count": 51,
   "metadata": {},
   "outputs": [
    {
     "name": "stdout",
     "output_type": "stream",
     "text": [
      "drove 2\n",
      "girl 1\n",
      "car 1\n",
      "the 4\n"
     ]
    }
   ],
   "source": [
    "def x0_length(x):     # x is a (key, value) tuple  # lambda x: len(x[0])\n",
    "    return len(x[0])\n",
    "\n",
    "word_counts = {'car': 1, 'drove': 2, \"the\": 4, \"girl\": 1}\n",
    "for word, count in sorted(word_counts.items(), key=x0_length, reverse=True):\n",
    "    print(word, count)"
   ]
  },
  {
   "cell_type": "code",
   "execution_count": 52,
   "metadata": {},
   "outputs": [
    {
     "data": {
      "text/plain": [
       "[('drove', 2), ('girl', 1), ('car', 1), ('the', 4)]"
      ]
     },
     "execution_count": 52,
     "metadata": {},
     "output_type": "execute_result"
    }
   ],
   "source": [
    "sorted(word_counts.items(), key=x0_length, reverse=True)"
   ]
  },
  {
   "cell_type": "code",
   "execution_count": 53,
   "metadata": {},
   "outputs": [
    {
     "data": {
      "text/plain": [
       "[('car', 1), ('the', 4), ('girl', 1), ('drove', 2)]"
      ]
     },
     "execution_count": 53,
     "metadata": {},
     "output_type": "execute_result"
    }
   ],
   "source": [
    "sorted(word_counts.items(), key=x0_length)"
   ]
  },
  {
   "cell_type": "code",
   "execution_count": 54,
   "metadata": {},
   "outputs": [
    {
     "data": {
      "text/plain": [
       "\u001b[0;31mSignature:\u001b[0m \u001b[0msorted\u001b[0m\u001b[0;34m(\u001b[0m\u001b[0miterable\u001b[0m\u001b[0;34m,\u001b[0m \u001b[0;34m/\u001b[0m\u001b[0;34m,\u001b[0m \u001b[0;34m*\u001b[0m\u001b[0;34m,\u001b[0m \u001b[0mkey\u001b[0m\u001b[0;34m=\u001b[0m\u001b[0;32mNone\u001b[0m\u001b[0;34m,\u001b[0m \u001b[0mreverse\u001b[0m\u001b[0;34m=\u001b[0m\u001b[0;32mFalse\u001b[0m\u001b[0;34m)\u001b[0m\u001b[0;34m\u001b[0m\u001b[0;34m\u001b[0m\u001b[0m\n",
       "\u001b[0;31mDocstring:\u001b[0m\n",
       "Return a new list containing all items from the iterable in ascending order.\n",
       "\n",
       "A custom key function can be supplied to customize the sort order, and the\n",
       "reverse flag can be set to request the result in descending order.\n",
       "\u001b[0;31mType:\u001b[0m      builtin_function_or_method"
      ]
     },
     "metadata": {},
     "output_type": "display_data"
    }
   ],
   "source": [
    "??sorted"
   ]
  },
  {
   "cell_type": "markdown",
   "metadata": {},
   "source": [
    "# Organize your data using appropriate data structures"
   ]
  },
  {
   "cell_type": "markdown",
   "metadata": {},
   "source": [
    "Imagine you have a temperatures of cities using different units: a list of dictionaries may be a good solution"
   ]
  },
  {
   "cell_type": "code",
   "execution_count": 56,
   "metadata": {},
   "outputs": [],
   "source": [
    "temp_records = [ {'city':'Los Angeles', 'temperature': '51', 'unit': 'Fahrenheit'}, \n",
    "                 {'city':'Madrid', 'temperature': '4', 'unit': 'Celsius'}, \n",
    "                 {'city':'New York', 'temperature': '18', 'unit': 'Fahrenheit'}, \n",
    "                 {'city':'New Delhi', 'temperature': '20', 'unit': 'Celsius'} \n",
    "               ]"
   ]
  },
  {
   "cell_type": "code",
   "execution_count": 57,
   "metadata": {},
   "outputs": [
    {
     "name": "stdout",
     "output_type": "stream",
     "text": [
      "The temperature in Los Angeles is 51 Fahrenheit\n",
      "The temperature in Madrid is 4 Celsius\n",
      "The temperature in New York is 18 Fahrenheit\n",
      "The temperature in New Delhi is 20 Celsius\n"
     ]
    }
   ],
   "source": [
    "for r in temp_records :\n",
    "    print(f\"The temperature in {r['city']} is {r['temperature']} {r['unit']}\")"
   ]
  },
  {
   "cell_type": "markdown",
   "metadata": {},
   "source": [
    "Suggestion: Write a program that shows all the temperatures in temp_records in Celsius"
   ]
  },
  {
   "cell_type": "markdown",
   "metadata": {},
   "source": [
    "# Tuples"
   ]
  },
  {
   "cell_type": "code",
   "execution_count": null,
   "metadata": {
    "scrolled": true
   },
   "outputs": [],
   "source": [
    "fhand = open('romeo.txt')\n",
    "counts = {}\n",
    "for line in fhand:\n",
    "    words = line.split()\n",
    "    # print(words)\n",
    "    for word in words:\n",
    "        counts[word] = counts.get(word,0) + 1\n",
    "        # print(word, counts[word])\n",
    "        \n",
    "print(counts)\n",
    "        \n",
    "lst = []\n",
    "for key, val in counts.items():\n",
    "    newtup = (val, key)\n",
    "    lst.append(newtup)\n",
    "\n",
    "print(lst)\n",
    "\n",
    "lst = sorted(lst, reverse=True)\n",
    "\n",
    "print(lst)\n",
    "\n",
    "for val, key in lst[:5]:\n",
    "    print (key,val)"
   ]
  },
  {
   "cell_type": "markdown",
   "metadata": {},
   "source": [
    "### Quick way to sort pairs by second element"
   ]
  },
  {
   "cell_type": "code",
   "execution_count": null,
   "metadata": {},
   "outputs": [],
   "source": [
    "c = {'a' : 10, 'b' : 1, 'c' : 22}\n",
    "c1 = sorted([(v,k) for (k,v) in c.items()]  , reverse=True)\n",
    "print (c1)"
   ]
  },
  {
   "cell_type": "markdown",
   "metadata": {},
   "source": [
    "# Tuples as keys in dictionaries\n",
    "### Dictionary keys must be immutable\n",
    "* Allowed as keys: int, float, string, bool, __tuple__\n",
    "* Not allowed as keys: list, set, dict (but allowed as values)"
   ]
  },
  {
   "cell_type": "code",
   "execution_count": 63,
   "metadata": {},
   "outputs": [
    {
     "name": "stdout",
     "output_type": "stream",
     "text": [
      "{('John Smith', 'email'): 'jsmith@usc.edu', ('John Smith', 'birthday'): 'July 4, 1997', ('John Smith', 'age'): 24, ('John Smith', 'married'): True, ('John Smith', 'wife'): 'Alice Smith', ('Alice Smith', 'email'): 'asmith@ucla.edu', ('Alice Smith', 'programming languages'): ['Python', 'Java', 'C++'], ('Alice Smith', 'address'): ('Los Angeles', '824 Hilgard Avennue'), ('Los Angeles', 'population'): 3898747, ('Los Angeles', 'mayor'): 'Eric Garcetti', ('Python', 'latest version'): '3.10.2', ('Python', 'creator'): 'Guido van Rossum', ('Guido van Rossum', 'twitter'): '@gvanrossum'}\n",
      "\n",
      "John Smith's wife's email: asmith@ucla.edu\n"
     ]
    }
   ],
   "source": [
    "d = {}\n",
    "d[(\"John Smith\", \"email\")] = \"jsmith@usc.edu\"\n",
    "d[(\"John Smith\", \"birthday\")] = \"July 4, 1997\"\n",
    "d[(\"John Smith\", \"age\")] = 24\n",
    "d[(\"John Smith\", \"married\")] = True\n",
    "d[(\"John Smith\", \"wife\")] = \"Alice Smith\"\n",
    "d[(\"Alice Smith\", \"email\")] = \"asmith@ucla.edu\"\n",
    "d[(\"Alice Smith\", \"programming languages\")] = [\"Python\", \"Java\", \"C++\"]\n",
    "d[(\"Alice Smith\", \"address\")] = (\"Los Angeles\", \"824 Hilgard Avennue\")\n",
    "d[(\"Los Angeles\", \"population\")] = 3898747\n",
    "d[(\"Los Angeles\", \"mayor\")] = \"Eric Garcetti\"\n",
    "d[(\"Python\", \"latest version\")] = \"3.10.2\"\n",
    "d[(\"Python\", \"creator\")] = \"Guido van Rossum\"\n",
    "d[(\"Guido van Rossum\", \"twitter\")] = \"@gvanrossum\"\n",
    "\n",
    "print(d)\n",
    "print(\"\\nJohn Smith's wife's email:\", \\\n",
    "      d.get( ( d.get((\"John Smith\", \"wife\")), \"email\") ) )"
   ]
  },
  {
   "cell_type": "markdown",
   "metadata": {},
   "source": [
    "### A dictionary with tuple keys can become a powerful web of information!"
   ]
  },
  {
   "cell_type": "markdown",
   "metadata": {},
   "source": [
    "back to slides"
   ]
  },
  {
   "cell_type": "markdown",
   "metadata": {},
   "source": [
    "# Sets"
   ]
  },
  {
   "cell_type": "code",
   "execution_count": null,
   "metadata": {},
   "outputs": [],
   "source": [
    "odds = {1, 3, 5, 7, 9}\n",
    "evens = {2, 4, 6, 8}\n",
    "primes = {2, 3, 5, 7}\n",
    "\n",
    "print('odds.intersection(primes) == odds & primes == ', odds & primes)\n",
    "print('odds.union(evens) == odds | evens == ', odds | evens)\n",
    "print('odds.intersection(evens) == odds | evens == ', odds | evens)\n",
    "print('odds.difference(primes) == odds - primes == ', odds - primes)\n",
    "print('primes.difference(odds) == primes - odds ==', primes - odds)\n",
    "print('odds.symmetric_difference(primes) == (odds - primes)|(primes - odds) == ', (odds - primes)|(primes - odds) )\n",
    "print('not (odds & evens) == odds.isdisjoint(evens) == ', not odds & evens )"
   ]
  },
  {
   "cell_type": "code",
   "execution_count": null,
   "metadata": {},
   "outputs": [],
   "source": []
  },
  {
   "cell_type": "code",
   "execution_count": 64,
   "metadata": {},
   "outputs": [],
   "source": [
    "d  = { 1 : 3 , 2 : 2 , 3 : 1}"
   ]
  },
  {
   "cell_type": "code",
   "execution_count": 65,
   "metadata": {},
   "outputs": [
    {
     "data": {
      "text/plain": [
       "{1: 3, 2: 2, 3: 1}"
      ]
     },
     "execution_count": 65,
     "metadata": {},
     "output_type": "execute_result"
    }
   ],
   "source": [
    "d"
   ]
  },
  {
   "cell_type": "code",
   "execution_count": 68,
   "metadata": {},
   "outputs": [
    {
     "data": {
      "text/plain": [
       "3"
      ]
     },
     "execution_count": 68,
     "metadata": {},
     "output_type": "execute_result"
    }
   ],
   "source": [
    "sorted( [ (v,k) for k,v in d.items() ] )[0][1]"
   ]
  },
  {
   "cell_type": "code",
   "execution_count": 73,
   "metadata": {},
   "outputs": [
    {
     "data": {
      "text/plain": [
       "3"
      ]
     },
     "execution_count": 73,
     "metadata": {},
     "output_type": "execute_result"
    }
   ],
   "source": [
    "sorted( d.items(), key=lambda x : x[1] )[0][0]"
   ]
  },
  {
   "cell_type": "code",
   "execution_count": 74,
   "metadata": {},
   "outputs": [
    {
     "name": "stdout",
     "output_type": "stream",
     "text": [
      "/Users/ambite/Documents/USC/classes/DSCI-510/DSCI-510-Spring-2024-Ambite/Week5-dictionaries-tuples-sets\n"
     ]
    }
   ],
   "source": [
    "!pwd"
   ]
  },
  {
   "cell_type": "code",
   "execution_count": null,
   "metadata": {},
   "outputs": [],
   "source": []
  }
 ],
 "metadata": {
  "anaconda-cloud": {},
  "kernelspec": {
   "display_name": "Python 3 (ipykernel)",
   "language": "python",
   "name": "python3"
  },
  "language_info": {
   "codemirror_mode": {
    "name": "ipython",
    "version": 3
   },
   "file_extension": ".py",
   "mimetype": "text/x-python",
   "name": "python",
   "nbconvert_exporter": "python",
   "pygments_lexer": "ipython3",
   "version": "3.11.3"
  }
 },
 "nbformat": 4,
 "nbformat_minor": 4
}
