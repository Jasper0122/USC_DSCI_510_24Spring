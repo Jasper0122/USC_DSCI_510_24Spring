{
 "cells": [
  {
   "cell_type": "markdown",
   "metadata": {},
   "source": [
    "# Conditional Statements and Boolean Expressions\n",
    "\n",
    "## Boolean variables:\n",
    "### They take one of two values: True or False (note capitalization!)"
   ]
  },
  {
   "cell_type": "code",
   "execution_count": 1,
   "metadata": {},
   "outputs": [],
   "source": [
    "my_bool = True"
   ]
  },
  {
   "cell_type": "code",
   "execution_count": 2,
   "metadata": {},
   "outputs": [
    {
     "data": {
      "text/plain": [
       "bool"
      ]
     },
     "execution_count": 2,
     "metadata": {},
     "output_type": "execute_result"
    }
   ],
   "source": [
    "type(my_bool)"
   ]
  },
  {
   "cell_type": "code",
   "execution_count": 3,
   "metadata": {},
   "outputs": [
    {
     "data": {
      "text/plain": [
       "bool"
      ]
     },
     "execution_count": 3,
     "metadata": {},
     "output_type": "execute_result"
    }
   ],
   "source": [
    "type(True)"
   ]
  },
  {
   "cell_type": "code",
   "execution_count": 4,
   "metadata": {},
   "outputs": [
    {
     "data": {
      "text/plain": [
       "str"
      ]
     },
     "execution_count": 4,
     "metadata": {},
     "output_type": "execute_result"
    }
   ],
   "source": [
    "type(\"True\")"
   ]
  },
  {
   "cell_type": "code",
   "execution_count": 5,
   "metadata": {},
   "outputs": [],
   "source": [
    "true = 42"
   ]
  },
  {
   "cell_type": "code",
   "execution_count": 6,
   "metadata": {},
   "outputs": [
    {
     "data": {
      "text/plain": [
       "int"
      ]
     },
     "execution_count": 6,
     "metadata": {},
     "output_type": "execute_result"
    }
   ],
   "source": [
    "type(true)"
   ]
  },
  {
   "cell_type": "code",
   "execution_count": 7,
   "metadata": {},
   "outputs": [],
   "source": [
    "my_var = 10"
   ]
  },
  {
   "cell_type": "code",
   "execution_count": 8,
   "metadata": {},
   "outputs": [
    {
     "data": {
      "text/plain": [
       "True"
      ]
     },
     "execution_count": 8,
     "metadata": {},
     "output_type": "execute_result"
    }
   ],
   "source": [
    "my_var == 10"
   ]
  },
  {
   "cell_type": "code",
   "execution_count": 9,
   "metadata": {},
   "outputs": [
    {
     "data": {
      "text/plain": [
       "False"
      ]
     },
     "execution_count": 9,
     "metadata": {},
     "output_type": "execute_result"
    }
   ],
   "source": [
    "my_var >= 12"
   ]
  },
  {
   "cell_type": "code",
   "execution_count": 10,
   "metadata": {},
   "outputs": [
    {
     "name": "stderr",
     "output_type": "stream",
     "text": [
      "<>:1: SyntaxWarning: \"is\" with a literal. Did you mean \"==\"?\n",
      "<>:1: SyntaxWarning: \"is\" with a literal. Did you mean \"==\"?\n",
      "C:\\Users\\lzr\\AppData\\Local\\Temp\\ipykernel_18960\\260482817.py:1: SyntaxWarning: \"is\" with a literal. Did you mean \"==\"?\n",
      "  my_var is 10\n"
     ]
    },
    {
     "data": {
      "text/plain": [
       "True"
      ]
     },
     "execution_count": 10,
     "metadata": {},
     "output_type": "execute_result"
    }
   ],
   "source": [
    "my_var is 10"
   ]
  },
  {
   "cell_type": "code",
   "execution_count": 11,
   "metadata": {},
   "outputs": [
    {
     "name": "stderr",
     "output_type": "stream",
     "text": [
      "<>:1: SyntaxWarning: \"is\" with a literal. Did you mean \"==\"?\n",
      "<>:1: SyntaxWarning: \"is\" with a literal. Did you mean \"==\"?\n",
      "C:\\Users\\lzr\\AppData\\Local\\Temp\\ipykernel_18960\\2299836114.py:1: SyntaxWarning: \"is\" with a literal. Did you mean \"==\"?\n",
      "  my_var is \"10\"\n"
     ]
    },
    {
     "data": {
      "text/plain": [
       "False"
      ]
     },
     "execution_count": 11,
     "metadata": {},
     "output_type": "execute_result"
    }
   ],
   "source": [
    "my_var is \"10\""
   ]
  },
  {
   "cell_type": "code",
   "execution_count": 12,
   "metadata": {},
   "outputs": [],
   "source": [
    "my_other_var = my_var"
   ]
  },
  {
   "cell_type": "code",
   "execution_count": 13,
   "metadata": {},
   "outputs": [
    {
     "data": {
      "text/plain": [
       "True"
      ]
     },
     "execution_count": 13,
     "metadata": {},
     "output_type": "execute_result"
    }
   ],
   "source": [
    "my_var is my_other_var"
   ]
  },
  {
   "cell_type": "markdown",
   "metadata": {},
   "source": [
    "### Insanity\n",
    "(Please use == to compare values, even if Python maps small integers to the same object)"
   ]
  },
  {
   "cell_type": "code",
   "execution_count": 14,
   "metadata": {},
   "outputs": [
    {
     "name": "stdout",
     "output_type": "stream",
     "text": [
      "-20 == -20: True\n",
      "-20 is -20: False\n",
      "-19 == -19: True\n",
      "-19 is -19: False\n",
      "-18 == -18: True\n",
      "-18 is -18: False\n",
      "-17 == -17: True\n",
      "-17 is -17: False\n",
      "-16 == -16: True\n",
      "-16 is -16: False\n",
      "-15 == -15: True\n",
      "-15 is -15: False\n",
      "-14 == -14: True\n",
      "-14 is -14: False\n",
      "-13 == -13: True\n",
      "-13 is -13: False\n",
      "-12 == -12: True\n",
      "-12 is -12: False\n",
      "-11 == -11: True\n",
      "-11 is -11: False\n",
      "-10 == -10: True\n",
      "-10 is -10: False\n",
      "-9 == -9: True\n",
      "-9 is -9: False\n",
      "-8 == -8: True\n",
      "-8 is -8: False\n",
      "-7 == -7: True\n",
      "-7 is -7: False\n",
      "-6 == -6: True\n",
      "-6 is -6: False\n",
      "-5 == -5: True\n",
      "-5 is -5: True\n",
      "-4 == -4: True\n",
      "-4 is -4: True\n",
      "-3 == -3: True\n",
      "-3 is -3: True\n",
      "-2 == -2: True\n",
      "-2 is -2: True\n",
      "-1 == -1: True\n",
      "-1 is -1: True\n",
      "0 == 0: True\n",
      "0 is 0: True\n",
      "1 == 1: True\n",
      "1 is 1: True\n",
      "2 == 2: True\n",
      "2 is 2: True\n",
      "3 == 3: True\n",
      "3 is 3: True\n",
      "4 == 4: True\n",
      "4 is 4: True\n",
      "5 == 5: True\n",
      "5 is 5: True\n",
      "6 == 6: True\n",
      "6 is 6: True\n",
      "7 == 7: True\n",
      "7 is 7: True\n",
      "8 == 8: True\n",
      "8 is 8: True\n",
      "9 == 9: True\n",
      "9 is 9: True\n",
      "10 == 10: True\n",
      "10 is 10: True\n",
      "11 == 11: True\n",
      "11 is 11: True\n",
      "12 == 12: True\n",
      "12 is 12: True\n",
      "13 == 13: True\n",
      "13 is 13: True\n",
      "14 == 14: True\n",
      "14 is 14: True\n",
      "15 == 15: True\n",
      "15 is 15: True\n",
      "16 == 16: True\n",
      "16 is 16: True\n",
      "17 == 17: True\n",
      "17 is 17: True\n",
      "18 == 18: True\n",
      "18 is 18: True\n",
      "19 == 19: True\n",
      "19 is 19: True\n",
      "20 == 20: True\n",
      "20 is 20: True\n",
      "21 == 21: True\n",
      "21 is 21: True\n",
      "22 == 22: True\n",
      "22 is 22: True\n",
      "23 == 23: True\n",
      "23 is 23: True\n",
      "24 == 24: True\n",
      "24 is 24: True\n",
      "25 == 25: True\n",
      "25 is 25: True\n",
      "26 == 26: True\n",
      "26 is 26: True\n",
      "27 == 27: True\n",
      "27 is 27: True\n",
      "28 == 28: True\n",
      "28 is 28: True\n",
      "29 == 29: True\n",
      "29 is 29: True\n",
      "30 == 30: True\n",
      "30 is 30: True\n",
      "31 == 31: True\n",
      "31 is 31: True\n",
      "32 == 32: True\n",
      "32 is 32: True\n",
      "33 == 33: True\n",
      "33 is 33: True\n",
      "34 == 34: True\n",
      "34 is 34: True\n",
      "35 == 35: True\n",
      "35 is 35: True\n",
      "36 == 36: True\n",
      "36 is 36: True\n",
      "37 == 37: True\n",
      "37 is 37: True\n",
      "38 == 38: True\n",
      "38 is 38: True\n",
      "39 == 39: True\n",
      "39 is 39: True\n",
      "40 == 40: True\n",
      "40 is 40: True\n",
      "41 == 41: True\n",
      "41 is 41: True\n",
      "42 == 42: True\n",
      "42 is 42: True\n",
      "43 == 43: True\n",
      "43 is 43: True\n",
      "44 == 44: True\n",
      "44 is 44: True\n",
      "45 == 45: True\n",
      "45 is 45: True\n",
      "46 == 46: True\n",
      "46 is 46: True\n",
      "47 == 47: True\n",
      "47 is 47: True\n",
      "48 == 48: True\n",
      "48 is 48: True\n",
      "49 == 49: True\n",
      "49 is 49: True\n",
      "50 == 50: True\n",
      "50 is 50: True\n",
      "51 == 51: True\n",
      "51 is 51: True\n",
      "52 == 52: True\n",
      "52 is 52: True\n",
      "53 == 53: True\n",
      "53 is 53: True\n",
      "54 == 54: True\n",
      "54 is 54: True\n",
      "55 == 55: True\n",
      "55 is 55: True\n",
      "56 == 56: True\n",
      "56 is 56: True\n",
      "57 == 57: True\n",
      "57 is 57: True\n",
      "58 == 58: True\n",
      "58 is 58: True\n",
      "59 == 59: True\n",
      "59 is 59: True\n",
      "60 == 60: True\n",
      "60 is 60: True\n",
      "61 == 61: True\n",
      "61 is 61: True\n",
      "62 == 62: True\n",
      "62 is 62: True\n",
      "63 == 63: True\n",
      "63 is 63: True\n",
      "64 == 64: True\n",
      "64 is 64: True\n",
      "65 == 65: True\n",
      "65 is 65: True\n",
      "66 == 66: True\n",
      "66 is 66: True\n",
      "67 == 67: True\n",
      "67 is 67: True\n",
      "68 == 68: True\n",
      "68 is 68: True\n",
      "69 == 69: True\n",
      "69 is 69: True\n",
      "70 == 70: True\n",
      "70 is 70: True\n",
      "71 == 71: True\n",
      "71 is 71: True\n",
      "72 == 72: True\n",
      "72 is 72: True\n",
      "73 == 73: True\n",
      "73 is 73: True\n",
      "74 == 74: True\n",
      "74 is 74: True\n",
      "75 == 75: True\n",
      "75 is 75: True\n",
      "76 == 76: True\n",
      "76 is 76: True\n",
      "77 == 77: True\n",
      "77 is 77: True\n",
      "78 == 78: True\n",
      "78 is 78: True\n",
      "79 == 79: True\n",
      "79 is 79: True\n",
      "80 == 80: True\n",
      "80 is 80: True\n",
      "81 == 81: True\n",
      "81 is 81: True\n",
      "82 == 82: True\n",
      "82 is 82: True\n",
      "83 == 83: True\n",
      "83 is 83: True\n",
      "84 == 84: True\n",
      "84 is 84: True\n",
      "85 == 85: True\n",
      "85 is 85: True\n",
      "86 == 86: True\n",
      "86 is 86: True\n",
      "87 == 87: True\n",
      "87 is 87: True\n",
      "88 == 88: True\n",
      "88 is 88: True\n",
      "89 == 89: True\n",
      "89 is 89: True\n",
      "90 == 90: True\n",
      "90 is 90: True\n",
      "91 == 91: True\n",
      "91 is 91: True\n",
      "92 == 92: True\n",
      "92 is 92: True\n",
      "93 == 93: True\n",
      "93 is 93: True\n",
      "94 == 94: True\n",
      "94 is 94: True\n",
      "95 == 95: True\n",
      "95 is 95: True\n",
      "96 == 96: True\n",
      "96 is 96: True\n",
      "97 == 97: True\n",
      "97 is 97: True\n",
      "98 == 98: True\n",
      "98 is 98: True\n",
      "99 == 99: True\n",
      "99 is 99: True\n",
      "100 == 100: True\n",
      "100 is 100: True\n",
      "101 == 101: True\n",
      "101 is 101: True\n",
      "102 == 102: True\n",
      "102 is 102: True\n",
      "103 == 103: True\n",
      "103 is 103: True\n",
      "104 == 104: True\n",
      "104 is 104: True\n",
      "105 == 105: True\n",
      "105 is 105: True\n",
      "106 == 106: True\n",
      "106 is 106: True\n",
      "107 == 107: True\n",
      "107 is 107: True\n",
      "108 == 108: True\n",
      "108 is 108: True\n",
      "109 == 109: True\n",
      "109 is 109: True\n",
      "110 == 110: True\n",
      "110 is 110: True\n",
      "111 == 111: True\n",
      "111 is 111: True\n",
      "112 == 112: True\n",
      "112 is 112: True\n",
      "113 == 113: True\n",
      "113 is 113: True\n",
      "114 == 114: True\n",
      "114 is 114: True\n",
      "115 == 115: True\n",
      "115 is 115: True\n",
      "116 == 116: True\n",
      "116 is 116: True\n",
      "117 == 117: True\n",
      "117 is 117: True\n",
      "118 == 118: True\n",
      "118 is 118: True\n",
      "119 == 119: True\n",
      "119 is 119: True\n",
      "120 == 120: True\n",
      "120 is 120: True\n",
      "121 == 121: True\n",
      "121 is 121: True\n",
      "122 == 122: True\n",
      "122 is 122: True\n",
      "123 == 123: True\n",
      "123 is 123: True\n",
      "124 == 124: True\n",
      "124 is 124: True\n",
      "125 == 125: True\n",
      "125 is 125: True\n",
      "126 == 126: True\n",
      "126 is 126: True\n",
      "127 == 127: True\n",
      "127 is 127: True\n",
      "128 == 128: True\n",
      "128 is 128: True\n",
      "129 == 129: True\n",
      "129 is 129: True\n",
      "130 == 130: True\n",
      "130 is 130: True\n",
      "131 == 131: True\n",
      "131 is 131: True\n",
      "132 == 132: True\n",
      "132 is 132: True\n",
      "133 == 133: True\n",
      "133 is 133: True\n",
      "134 == 134: True\n",
      "134 is 134: True\n",
      "135 == 135: True\n",
      "135 is 135: True\n",
      "136 == 136: True\n",
      "136 is 136: True\n",
      "137 == 137: True\n",
      "137 is 137: True\n",
      "138 == 138: True\n",
      "138 is 138: True\n",
      "139 == 139: True\n",
      "139 is 139: True\n",
      "140 == 140: True\n",
      "140 is 140: True\n",
      "141 == 141: True\n",
      "141 is 141: True\n",
      "142 == 142: True\n",
      "142 is 142: True\n",
      "143 == 143: True\n",
      "143 is 143: True\n",
      "144 == 144: True\n",
      "144 is 144: True\n",
      "145 == 145: True\n",
      "145 is 145: True\n",
      "146 == 146: True\n",
      "146 is 146: True\n",
      "147 == 147: True\n",
      "147 is 147: True\n",
      "148 == 148: True\n",
      "148 is 148: True\n",
      "149 == 149: True\n",
      "149 is 149: True\n",
      "150 == 150: True\n",
      "150 is 150: True\n",
      "151 == 151: True\n",
      "151 is 151: True\n",
      "152 == 152: True\n",
      "152 is 152: True\n",
      "153 == 153: True\n",
      "153 is 153: True\n",
      "154 == 154: True\n",
      "154 is 154: True\n",
      "155 == 155: True\n",
      "155 is 155: True\n",
      "156 == 156: True\n",
      "156 is 156: True\n",
      "157 == 157: True\n",
      "157 is 157: True\n",
      "158 == 158: True\n",
      "158 is 158: True\n",
      "159 == 159: True\n",
      "159 is 159: True\n",
      "160 == 160: True\n",
      "160 is 160: True\n",
      "161 == 161: True\n",
      "161 is 161: True\n",
      "162 == 162: True\n",
      "162 is 162: True\n",
      "163 == 163: True\n",
      "163 is 163: True\n",
      "164 == 164: True\n",
      "164 is 164: True\n",
      "165 == 165: True\n",
      "165 is 165: True\n",
      "166 == 166: True\n",
      "166 is 166: True\n",
      "167 == 167: True\n",
      "167 is 167: True\n",
      "168 == 168: True\n",
      "168 is 168: True\n",
      "169 == 169: True\n",
      "169 is 169: True\n",
      "170 == 170: True\n",
      "170 is 170: True\n",
      "171 == 171: True\n",
      "171 is 171: True\n",
      "172 == 172: True\n",
      "172 is 172: True\n",
      "173 == 173: True\n",
      "173 is 173: True\n",
      "174 == 174: True\n",
      "174 is 174: True\n",
      "175 == 175: True\n",
      "175 is 175: True\n",
      "176 == 176: True\n",
      "176 is 176: True\n",
      "177 == 177: True\n",
      "177 is 177: True\n",
      "178 == 178: True\n",
      "178 is 178: True\n",
      "179 == 179: True\n",
      "179 is 179: True\n",
      "180 == 180: True\n",
      "180 is 180: True\n",
      "181 == 181: True\n",
      "181 is 181: True\n",
      "182 == 182: True\n",
      "182 is 182: True\n",
      "183 == 183: True\n",
      "183 is 183: True\n",
      "184 == 184: True\n",
      "184 is 184: True\n",
      "185 == 185: True\n",
      "185 is 185: True\n",
      "186 == 186: True\n",
      "186 is 186: True\n",
      "187 == 187: True\n",
      "187 is 187: True\n",
      "188 == 188: True\n",
      "188 is 188: True\n",
      "189 == 189: True\n",
      "189 is 189: True\n",
      "190 == 190: True\n",
      "190 is 190: True\n",
      "191 == 191: True\n",
      "191 is 191: True\n",
      "192 == 192: True\n",
      "192 is 192: True\n",
      "193 == 193: True\n",
      "193 is 193: True\n",
      "194 == 194: True\n",
      "194 is 194: True\n",
      "195 == 195: True\n",
      "195 is 195: True\n",
      "196 == 196: True\n",
      "196 is 196: True\n",
      "197 == 197: True\n",
      "197 is 197: True\n",
      "198 == 198: True\n",
      "198 is 198: True\n",
      "199 == 199: True\n",
      "199 is 199: True\n",
      "200 == 200: True\n",
      "200 is 200: True\n",
      "201 == 201: True\n",
      "201 is 201: True\n",
      "202 == 202: True\n",
      "202 is 202: True\n",
      "203 == 203: True\n",
      "203 is 203: True\n",
      "204 == 204: True\n",
      "204 is 204: True\n",
      "205 == 205: True\n",
      "205 is 205: True\n",
      "206 == 206: True\n",
      "206 is 206: True\n",
      "207 == 207: True\n",
      "207 is 207: True\n",
      "208 == 208: True\n",
      "208 is 208: True\n",
      "209 == 209: True\n",
      "209 is 209: True\n",
      "210 == 210: True\n",
      "210 is 210: True\n",
      "211 == 211: True\n",
      "211 is 211: True\n",
      "212 == 212: True\n",
      "212 is 212: True\n",
      "213 == 213: True\n",
      "213 is 213: True\n",
      "214 == 214: True\n",
      "214 is 214: True\n",
      "215 == 215: True\n",
      "215 is 215: True\n",
      "216 == 216: True\n",
      "216 is 216: True\n",
      "217 == 217: True\n",
      "217 is 217: True\n",
      "218 == 218: True\n",
      "218 is 218: True\n",
      "219 == 219: True\n",
      "219 is 219: True\n",
      "220 == 220: True\n",
      "220 is 220: True\n",
      "221 == 221: True\n",
      "221 is 221: True\n",
      "222 == 222: True\n",
      "222 is 222: True\n",
      "223 == 223: True\n",
      "223 is 223: True\n",
      "224 == 224: True\n",
      "224 is 224: True\n",
      "225 == 225: True\n",
      "225 is 225: True\n",
      "226 == 226: True\n",
      "226 is 226: True\n",
      "227 == 227: True\n",
      "227 is 227: True\n",
      "228 == 228: True\n",
      "228 is 228: True\n",
      "229 == 229: True\n",
      "229 is 229: True\n",
      "230 == 230: True\n",
      "230 is 230: True\n",
      "231 == 231: True\n",
      "231 is 231: True\n",
      "232 == 232: True\n",
      "232 is 232: True\n",
      "233 == 233: True\n",
      "233 is 233: True\n",
      "234 == 234: True\n",
      "234 is 234: True\n",
      "235 == 235: True\n",
      "235 is 235: True\n",
      "236 == 236: True\n",
      "236 is 236: True\n",
      "237 == 237: True\n",
      "237 is 237: True\n",
      "238 == 238: True\n",
      "238 is 238: True\n",
      "239 == 239: True\n",
      "239 is 239: True\n",
      "240 == 240: True\n",
      "240 is 240: True\n",
      "241 == 241: True\n",
      "241 is 241: True\n",
      "242 == 242: True\n",
      "242 is 242: True\n",
      "243 == 243: True\n",
      "243 is 243: True\n",
      "244 == 244: True\n",
      "244 is 244: True\n",
      "245 == 245: True\n",
      "245 is 245: True\n",
      "246 == 246: True\n",
      "246 is 246: True\n",
      "247 == 247: True\n",
      "247 is 247: True\n",
      "248 == 248: True\n",
      "248 is 248: True\n",
      "249 == 249: True\n",
      "249 is 249: True\n",
      "250 == 250: True\n",
      "250 is 250: True\n",
      "251 == 251: True\n",
      "251 is 251: True\n",
      "252 == 252: True\n",
      "252 is 252: True\n",
      "253 == 253: True\n",
      "253 is 253: True\n",
      "254 == 254: True\n",
      "254 is 254: True\n",
      "255 == 255: True\n",
      "255 is 255: True\n",
      "256 == 256: True\n",
      "256 is 256: True\n",
      "257 == 257: True\n",
      "257 is 257: False\n",
      "258 == 258: True\n",
      "258 is 258: False\n",
      "259 == 259: True\n",
      "259 is 259: False\n",
      "260 == 260: True\n",
      "260 is 260: False\n",
      "261 == 261: True\n",
      "261 is 261: False\n",
      "262 == 262: True\n",
      "262 is 262: False\n",
      "263 == 263: True\n",
      "263 is 263: False\n",
      "264 == 264: True\n",
      "264 is 264: False\n",
      "265 == 265: True\n",
      "265 is 265: False\n",
      "266 == 266: True\n",
      "266 is 266: False\n",
      "267 == 267: True\n",
      "267 is 267: False\n",
      "268 == 268: True\n",
      "268 is 268: False\n",
      "269 == 269: True\n",
      "269 is 269: False\n",
      "270 == 270: True\n",
      "270 is 270: False\n",
      "271 == 271: True\n",
      "271 is 271: False\n",
      "272 == 272: True\n",
      "272 is 272: False\n",
      "273 == 273: True\n",
      "273 is 273: False\n",
      "274 == 274: True\n",
      "274 is 274: False\n",
      "275 == 275: True\n",
      "275 is 275: False\n",
      "276 == 276: True\n",
      "276 is 276: False\n",
      "277 == 277: True\n",
      "277 is 277: False\n",
      "278 == 278: True\n",
      "278 is 278: False\n",
      "279 == 279: True\n",
      "279 is 279: False\n",
      "280 == 280: True\n",
      "280 is 280: False\n",
      "281 == 281: True\n",
      "281 is 281: False\n",
      "282 == 282: True\n",
      "282 is 282: False\n",
      "283 == 283: True\n",
      "283 is 283: False\n",
      "284 == 284: True\n",
      "284 is 284: False\n",
      "285 == 285: True\n",
      "285 is 285: False\n",
      "286 == 286: True\n",
      "286 is 286: False\n",
      "287 == 287: True\n",
      "287 is 287: False\n",
      "288 == 288: True\n",
      "288 is 288: False\n",
      "289 == 289: True\n",
      "289 is 289: False\n",
      "290 == 290: True\n",
      "290 is 290: False\n",
      "291 == 291: True\n",
      "291 is 291: False\n",
      "292 == 292: True\n",
      "292 is 292: False\n",
      "293 == 293: True\n",
      "293 is 293: False\n",
      "294 == 294: True\n",
      "294 is 294: False\n",
      "295 == 295: True\n",
      "295 is 295: False\n",
      "296 == 296: True\n",
      "296 is 296: False\n",
      "297 == 297: True\n",
      "297 is 297: False\n",
      "298 == 298: True\n",
      "298 is 298: False\n",
      "299 == 299: True\n",
      "299 is 299: False\n"
     ]
    }
   ],
   "source": [
    "for i in range(-20, 300):\n",
    "    x = i\n",
    "    y = i - 1 + 1\n",
    "    print(f'{x} == {y}: {x == y}')\n",
    "    print(f'{x} is {y}: {x is y}')"
   ]
  },
  {
   "cell_type": "code",
   "execution_count": 15,
   "metadata": {},
   "outputs": [
    {
     "name": "stdout",
     "output_type": "stream",
     "text": [
      "0.8216173999826424\n"
     ]
    }
   ],
   "source": [
    "import time\n",
    "\n",
    "x = 255\n",
    "y = 255\n",
    "\n",
    "a = time.perf_counter()\n",
    "\n",
    "for i in range(10000000):\n",
    "    x == y\n",
    "    \n",
    "b = time.perf_counter()\n",
    "\n",
    "print(b - a)"
   ]
  },
  {
   "cell_type": "code",
   "execution_count": 16,
   "metadata": {},
   "outputs": [
    {
     "name": "stdout",
     "output_type": "stream",
     "text": [
      "0.7668025999737438\n"
     ]
    }
   ],
   "source": [
    "c = time.perf_counter()\n",
    "\n",
    "for i in range(10000000):\n",
    "    x is y\n",
    "\n",
    "d = time.perf_counter()\n",
    "\n",
    "print(d - c)"
   ]
  },
  {
   "cell_type": "markdown",
   "metadata": {},
   "source": [
    "### Weird things happen when you don't use explicitly Boolean things with logical operators"
   ]
  },
  {
   "cell_type": "code",
   "execution_count": 17,
   "metadata": {},
   "outputs": [],
   "source": [
    "my_var = \"hi\""
   ]
  },
  {
   "cell_type": "code",
   "execution_count": 18,
   "metadata": {},
   "outputs": [
    {
     "data": {
      "text/plain": [
       "10"
      ]
     },
     "execution_count": 18,
     "metadata": {},
     "output_type": "execute_result"
    }
   ],
   "source": [
    "my_var and 10"
   ]
  },
  {
   "cell_type": "code",
   "execution_count": 19,
   "metadata": {},
   "outputs": [
    {
     "data": {
      "text/plain": [
       "True"
      ]
     },
     "execution_count": 19,
     "metadata": {},
     "output_type": "execute_result"
    }
   ],
   "source": [
    "17 and True"
   ]
  },
  {
   "cell_type": "code",
   "execution_count": 20,
   "metadata": {},
   "outputs": [
    {
     "name": "stdout",
     "output_type": "stream",
     "text": [
      "Behaves like a True\n"
     ]
    }
   ],
   "source": [
    "if my_var and 10 :\n",
    "    print('Behaves like a True')"
   ]
  },
  {
   "cell_type": "markdown",
   "metadata": {},
   "source": [
    "### Better to do it this way"
   ]
  },
  {
   "cell_type": "code",
   "execution_count": 21,
   "metadata": {
    "scrolled": true
   },
   "outputs": [
    {
     "data": {
      "text/plain": [
       "True"
      ]
     },
     "execution_count": 21,
     "metadata": {},
     "output_type": "execute_result"
    }
   ],
   "source": [
    "(my_var == \"hi\") and (10 != 0)"
   ]
  },
  {
   "cell_type": "code",
   "execution_count": 22,
   "metadata": {},
   "outputs": [
    {
     "name": "stdout",
     "output_type": "stream",
     "text": [
      "That condition evaluated to True\n"
     ]
    }
   ],
   "source": [
    "if (my_var == \"hi\") and (10 != 0) :\n",
    "    print('That condition evaluated to True')"
   ]
  },
  {
   "cell_type": "markdown",
   "metadata": {},
   "source": [
    "###  Back to slides"
   ]
  },
  {
   "cell_type": "markdown",
   "metadata": {},
   "source": [
    "# _If_ statement, and blocks"
   ]
  },
  {
   "cell_type": "code",
   "execution_count": 23,
   "metadata": {},
   "outputs": [
    {
     "name": "stdout",
     "output_type": "stream",
     "text": [
      "Before 5\n",
      "  Is 5\n",
      "  Is still 5\n",
      "  5 again\n",
      "Afterwards 5\n",
      "Before 10\n",
      "Afterwards 10\n"
     ]
    }
   ],
   "source": [
    "x = 5\n",
    "print('Before 5')\n",
    "if x == 5:\n",
    "    print('  Is 5')\n",
    "    print('  Is still 5')\n",
    "    print('  5 again')\n",
    "print('Afterwards 5')\n",
    "print('Before 10')\n",
    "if x == 10:\n",
    "    print(' Is 10')\n",
    "    print(' Is still 10')\n",
    "    print(' 10 again')\n",
    "print('Afterwards 10')"
   ]
  },
  {
   "cell_type": "markdown",
   "metadata": {},
   "source": [
    "### Else clause\n",
    "\n",
    "But what if we want something to be executed whenever the condition is NOT true?\n",
    "\n",
    "That's what \"else\" is for"
   ]
  },
  {
   "cell_type": "code",
   "execution_count": 24,
   "metadata": {},
   "outputs": [
    {
     "name": "stdout",
     "output_type": "stream",
     "text": [
      "x is 5\n",
      "x may or may not have been 5\n",
      "xIs5: True\n"
     ]
    }
   ],
   "source": [
    "x = 5   # 7\n",
    "xIs5 = False\n",
    "if x == 5:\n",
    "    print('x is 5')\n",
    "    xIs5 = True\n",
    "else:\n",
    "    print('x is definitely not 5!')\n",
    "print('x may or may not have been 5')\n",
    "print('xIs5:', xIs5)"
   ]
  },
  {
   "cell_type": "markdown",
   "metadata": {},
   "source": [
    "### We can \"chain\" conditionals with _elif_ (else if)"
   ]
  },
  {
   "cell_type": "code",
   "execution_count": 25,
   "metadata": {},
   "outputs": [
    {
     "name": "stdout",
     "output_type": "stream",
     "text": [
      "Medium\n",
      "All done!\n"
     ]
    }
   ],
   "source": [
    "x = 7\n",
    "if x < 2:\n",
    "    print('small')\n",
    "elif x < 10:\n",
    "    print('Medium')\n",
    "else:\n",
    "    print('LARGE')\n",
    "print('All done!')"
   ]
  },
  {
   "cell_type": "markdown",
   "metadata": {},
   "source": [
    "### Nested conditionals"
   ]
  },
  {
   "cell_type": "code",
   "execution_count": 26,
   "metadata": {},
   "outputs": [
    {
     "name": "stdout",
     "output_type": "stream",
     "text": [
      "At least you can drive!\n"
     ]
    }
   ],
   "source": [
    "age = 17 # 24\n",
    "if age > 21:\n",
    "    print(\"You can drink if you want to.\")\n",
    "else:\n",
    "    if age > 16:\n",
    "        print(\"At least you can drive!\")\n",
    "    else:\n",
    "        print(\"You’re too young to have any fun!\")"
   ]
  },
  {
   "cell_type": "markdown",
   "metadata": {},
   "source": [
    "### Note that the \"do something else\" portion of the else block is just another 'if' statement\n"
   ]
  },
  {
   "cell_type": "markdown",
   "metadata": {},
   "source": [
    "## Back to slides"
   ]
  },
  {
   "cell_type": "markdown",
   "metadata": {},
   "source": [
    "# Exceptions\n",
    "\n",
    "## Sometimes things go wrong..."
   ]
  },
  {
   "cell_type": "code",
   "execution_count": 27,
   "metadata": {},
   "outputs": [
    {
     "name": "stdout",
     "output_type": "stream",
     "text": [
      "Enter temperature in Fahrenheit 11\n",
      "11.0 Fahrenheit is -11.666666666666666 Celsius\n"
     ]
    }
   ],
   "source": [
    "# Convert Fahrenheit to Celsius\n",
    "f_temp = input('Enter temperature in Fahrenheit ')  # type: 32, ten degrees, 10F, 104\n",
    "f_temp = float(f_temp)\n",
    "c_temp = (f_temp - 32.0) * 5.0 / 9.0  \n",
    "print (f_temp, 'Fahrenheit is', c_temp, 'Celsius')"
   ]
  },
  {
   "cell_type": "markdown",
   "metadata": {},
   "source": [
    "### Solution: Wrap operations on input in a try/except block"
   ]
  },
  {
   "cell_type": "code",
   "execution_count": 28,
   "metadata": {
    "scrolled": true
   },
   "outputs": [
    {
     "name": "stdout",
     "output_type": "stream",
     "text": [
      "Enter temperature in Fahrenheit 100\n",
      "100.0 Fahrenheit is 37.77777777777778 Celsius\n"
     ]
    }
   ],
   "source": [
    "# Convert Fahrenheit to Celsius\n",
    "f_temp = input('Enter temperature in Fahrenheit ')  # try 86, 86F, ten, 68\n",
    "try:\n",
    "    f_temp = float(f_temp)\n",
    "    c_temp = (f_temp - 32.0) * 5.0 / 9.0  # NOTE PARENTHESES!\n",
    "    print (f_temp, 'Fahrenheit is', c_temp, 'Celsius')\n",
    "except:\n",
    "    print(\"Please enter a number!\")"
   ]
  },
  {
   "cell_type": "markdown",
   "metadata": {
    "collapsed": true,
    "jp-MarkdownHeadingCollapsed": true,
    "jupyter": {
     "outputs_hidden": true
    }
   },
   "source": [
    "Note that the try/except blocks are indented, just like if/else blocks.\n"
   ]
  },
  {
   "cell_type": "markdown",
   "metadata": {},
   "source": [
    "### Back to slides"
   ]
  },
  {
   "cell_type": "markdown",
   "metadata": {},
   "source": [
    "# Functions"
   ]
  },
  {
   "cell_type": "markdown",
   "metadata": {},
   "source": [
    "### Guido van Rossum wrote max and min and many other built-in functions"
   ]
  },
  {
   "cell_type": "code",
   "execution_count": 29,
   "metadata": {},
   "outputs": [
    {
     "name": "stdout",
     "output_type": "stream",
     "text": [
      "4\n"
     ]
    }
   ],
   "source": [
    "big = max('1234')\n",
    "print(big)"
   ]
  },
  {
   "cell_type": "code",
   "execution_count": 30,
   "metadata": {},
   "outputs": [
    {
     "name": "stdout",
     "output_type": "stream",
     "text": [
      "w\n"
     ]
    }
   ],
   "source": [
    "big = max('Hello world')\n",
    "print(big)"
   ]
  },
  {
   "cell_type": "code",
   "execution_count": 31,
   "metadata": {},
   "outputs": [
    {
     "name": "stdout",
     "output_type": "stream",
     "text": [
      "Say hello to my   friend\n"
     ]
    },
    {
     "data": {
      "text/plain": [
       "True"
      ]
     },
     "execution_count": 31,
     "metadata": {},
     "output_type": "execute_result"
    }
   ],
   "source": [
    "tiny = min('Hello world')\n",
    "print('Say hello to my', tiny, 'friend') # scarface :-)\n",
    "tiny == ' '"
   ]
  },
  {
   "cell_type": "markdown",
   "metadata": {},
   "source": [
    "### Let's define a function \n",
    "\n",
    "Note the indentation, just like an \"if\" or \"else\" block.  Everything at this indent level -- or indented MORE -- is part of our function."
   ]
  },
  {
   "cell_type": "code",
   "execution_count": 32,
   "metadata": {},
   "outputs": [],
   "source": [
    "def my_func():\n",
    "    print(\"I love functions!\")"
   ]
  },
  {
   "cell_type": "markdown",
   "metadata": {},
   "source": [
    "\n",
    "\n",
    "### To invoke a function we call it by its name, but MUST include the parentheses!"
   ]
  },
  {
   "cell_type": "code",
   "execution_count": 33,
   "metadata": {},
   "outputs": [
    {
     "name": "stdout",
     "output_type": "stream",
     "text": [
      "I love functions!\n"
     ]
    }
   ],
   "source": [
    "my_func()"
   ]
  },
  {
   "cell_type": "markdown",
   "metadata": {},
   "source": [
    "### Funtions can have arguments"
   ]
  },
  {
   "cell_type": "code",
   "execution_count": 34,
   "metadata": {},
   "outputs": [],
   "source": [
    "def my_other_func(my_arg):\n",
    "    print(\"You said: \", my_arg)"
   ]
  },
  {
   "cell_type": "code",
   "execution_count": 35,
   "metadata": {},
   "outputs": [
    {
     "name": "stdout",
     "output_type": "stream",
     "text": [
      "You said:  hi!\n"
     ]
    }
   ],
   "source": [
    "my_other_func(\"hi!\")"
   ]
  },
  {
   "cell_type": "code",
   "execution_count": 36,
   "metadata": {},
   "outputs": [
    {
     "name": "stdout",
     "output_type": "stream",
     "text": [
      "You said:  10\n"
     ]
    }
   ],
   "source": [
    "my_other_func(10)"
   ]
  },
  {
   "cell_type": "markdown",
   "metadata": {},
   "source": [
    "### You can call a function inside another function"
   ]
  },
  {
   "cell_type": "code",
   "execution_count": 37,
   "metadata": {},
   "outputs": [],
   "source": [
    "def my_compound_func(my_arg):\n",
    "    my_func()\n",
    "    print(\"You said:\", my_arg)"
   ]
  },
  {
   "cell_type": "code",
   "execution_count": 38,
   "metadata": {},
   "outputs": [
    {
     "name": "stdout",
     "output_type": "stream",
     "text": [
      "I love functions!\n",
      "You said: hi!\n"
     ]
    }
   ],
   "source": [
    "my_compound_func(\"hi!\")"
   ]
  },
  {
   "cell_type": "markdown",
   "metadata": {},
   "source": [
    "# Function parameters and arguments\n",
    "\n",
    "- Difference between arguments and parameters\n",
    "- Positional and keyword arguments\n",
    "- Default arguments\n",
    "\n",
    "(Based on:\n",
    "- https://github.com/python-engineer/python-engineer-notebooks/blob/master/advanced-python/18-Functions%20arguments.ipynb\n",
    "- https://www.youtube.com/watch?v=iSEyb7ehLK0&list=PLqnslRFeH2UqLwzS0AwKDKLrpYBKzLBy2&index=19 )\n"
   ]
  },
  {
   "cell_type": "markdown",
   "metadata": {},
   "source": [
    "## Arguments and parameters\n",
    "- Parameters are the variables that are defined or used inside parentheses while defining a function\n",
    "- Arguments are the value passed for these parameters while calling a function"
   ]
  },
  {
   "cell_type": "code",
   "execution_count": 39,
   "metadata": {},
   "outputs": [
    {
     "name": "stdout",
     "output_type": "stream",
     "text": [
      "2\n",
      "6\n"
     ]
    }
   ],
   "source": [
    "def add1(num): # num is the parameter\n",
    "    return num + 1\n",
    "\n",
    "print(add1(1)) # the value 1 is the argument\n",
    "y = 5\n",
    "print(add1(y)) # the value of variable y is the argument"
   ]
  },
  {
   "cell_type": "markdown",
   "metadata": {},
   "source": [
    "For simplicity, below I'm going to use functions that just print the arguments they get\n",
    "\n",
    "Of course, any real function would do something more interesting with the arguments\n"
   ]
  },
  {
   "cell_type": "markdown",
   "metadata": {},
   "source": [
    "## Positional and keyword arguments\n",
    "We can pass arguments as positional or keyword arguments. \n",
    "\n",
    "Some benefits of keyword arguments can be:\n",
    "- We can call arguments by their names to make it more clear what they represent\n",
    "- We can rearrange arguments in a way that makes them most readable"
   ]
  },
  {
   "cell_type": "code",
   "execution_count": 40,
   "metadata": {
    "scrolled": true
   },
   "outputs": [
    {
     "name": "stdout",
     "output_type": "stream",
     "text": [
      "1 2 3\n",
      "1 2 3\n",
      "1 2 3\n",
      "1 2 3\n"
     ]
    }
   ],
   "source": [
    "def foo(a, b, c):\n",
    "    print(a, b, c)\n",
    "    \n",
    "# positional arguments\n",
    "foo(1, 2, 3)\n",
    "\n",
    "# keyword arguments\n",
    "foo(a=1, b=2, c=3)\n",
    "foo(c=3, b=2, a=1) # Note that the order does not matter with keyword arguments\n",
    "\n",
    "# mix of both\n",
    "foo(1, b=2, c=3) # Positional parameters always first"
   ]
  },
  {
   "cell_type": "code",
   "execution_count": 41,
   "metadata": {},
   "outputs": [
    {
     "ename": "SyntaxError",
     "evalue": "positional argument follows keyword argument (4019843809.py, line 2)",
     "output_type": "error",
     "traceback": [
      "\u001b[1;36m  Cell \u001b[1;32mIn[41], line 2\u001b[1;36m\u001b[0m\n\u001b[1;33m    foo(1, b=2, 3)   # positional argument after keyword argument\u001b[0m\n\u001b[1;37m                 ^\u001b[0m\n\u001b[1;31mSyntaxError\u001b[0m\u001b[1;31m:\u001b[0m positional argument follows keyword argument\n"
     ]
    }
   ],
   "source": [
    "# This is not allowed:\n",
    "foo(1, b=2, 3)   # positional argument after keyword argument"
   ]
  },
  {
   "cell_type": "code",
   "execution_count": 42,
   "metadata": {},
   "outputs": [
    {
     "ename": "TypeError",
     "evalue": "foo() got multiple values for argument 'a'",
     "output_type": "error",
     "traceback": [
      "\u001b[1;31m---------------------------------------------------------------------------\u001b[0m",
      "\u001b[1;31mTypeError\u001b[0m                                 Traceback (most recent call last)",
      "Cell \u001b[1;32mIn[42], line 2\u001b[0m\n\u001b[0;32m      1\u001b[0m \u001b[38;5;66;03m# This is not allowed:\u001b[39;00m\n\u001b[1;32m----> 2\u001b[0m foo(\u001b[38;5;241m1\u001b[39m, b\u001b[38;5;241m=\u001b[39m\u001b[38;5;241m2\u001b[39m, a\u001b[38;5;241m=\u001b[39m\u001b[38;5;241m3\u001b[39m)\n",
      "\u001b[1;31mTypeError\u001b[0m: foo() got multiple values for argument 'a'"
     ]
    }
   ],
   "source": [
    "# This is not allowed:\n",
    "foo(1, b=2, a=3) # multiple values for argument 'a'"
   ]
  },
  {
   "cell_type": "markdown",
   "metadata": {},
   "source": [
    "## Default arguments\n",
    "Functions can have default arguments with a predefined value. This argument can be left out and the default value is then passed to the function, or the argument can be used with a different value. Note that default arguments must be defined as the last parameters in a function."
   ]
  },
  {
   "cell_type": "code",
   "execution_count": 43,
   "metadata": {},
   "outputs": [],
   "source": [
    "# default arguments\n",
    "def foo(a, b, c, d=19):\n",
    "    print(a, b, c, d)"
   ]
  },
  {
   "cell_type": "code",
   "execution_count": 44,
   "metadata": {},
   "outputs": [
    {
     "name": "stdout",
     "output_type": "stream",
     "text": [
      "1 2 3 19\n"
     ]
    }
   ],
   "source": [
    "foo(1, 2, 3) # you can call the function without passing the default argument"
   ]
  },
  {
   "cell_type": "code",
   "execution_count": 45,
   "metadata": {},
   "outputs": [
    {
     "name": "stdout",
     "output_type": "stream",
     "text": [
      "1 2 3 5\n"
     ]
    }
   ],
   "source": [
    "foo(1, 2, 3, 5) # you can overwrite the default"
   ]
  },
  {
   "cell_type": "code",
   "execution_count": 46,
   "metadata": {},
   "outputs": [
    {
     "name": "stdout",
     "output_type": "stream",
     "text": [
      "1 2 3 100\n"
     ]
    }
   ],
   "source": [
    "foo(1, c=3, d=100, b=2  ) # it also works with keyword arguments"
   ]
  },
  {
   "cell_type": "code",
   "execution_count": 47,
   "metadata": {},
   "outputs": [
    {
     "ename": "SyntaxError",
     "evalue": "non-default argument follows default argument (2247724317.py, line 2)",
     "output_type": "error",
     "traceback": [
      "\u001b[1;36m  Cell \u001b[1;32mIn[47], line 2\u001b[1;36m\u001b[0m\n\u001b[1;33m    def foo(a, b=2, c, d=4):\u001b[0m\n\u001b[1;37m                    ^\u001b[0m\n\u001b[1;31mSyntaxError\u001b[0m\u001b[1;31m:\u001b[0m non-default argument follows default argument\n"
     ]
    }
   ],
   "source": [
    "# not allowed: default arguments must be at the end\n",
    "def foo(a, b=2, c, d=4):\n",
    "     print(a, b, c, d)"
   ]
  },
  {
   "cell_type": "code",
   "execution_count": 48,
   "metadata": {},
   "outputs": [],
   "source": [
    "def foo(a, b, c=3, d=4):\n",
    "     print(a, b, c, d)"
   ]
  },
  {
   "cell_type": "code",
   "execution_count": 49,
   "metadata": {},
   "outputs": [
    {
     "name": "stdout",
     "output_type": "stream",
     "text": [
      "1 2 3 4\n"
     ]
    }
   ],
   "source": [
    "foo(1,2)"
   ]
  },
  {
   "cell_type": "markdown",
   "metadata": {},
   "source": [
    "## Variable Scope"
   ]
  },
  {
   "cell_type": "code",
   "execution_count": 50,
   "metadata": {},
   "outputs": [
    {
     "name": "stdout",
     "output_type": "stream",
     "text": [
      "hi\n",
      "bye\n"
     ]
    }
   ],
   "source": [
    "x = \"bye\"\n",
    "\n",
    "def param_func(x):\n",
    "    print(x)\n",
    "    \n",
    "param_func(\"hi\")\n",
    "\n",
    "print(x)"
   ]
  },
  {
   "cell_type": "markdown",
   "metadata": {},
   "source": [
    "Note that the \"x\" INSIDE the function is different than the \"x\" OUTSIDE the function.  \n",
    "\n",
    "It's best to use different names until if you're comfortable with this "
   ]
  },
  {
   "cell_type": "code",
   "execution_count": 51,
   "metadata": {},
   "outputs": [
    {
     "name": "stdout",
     "output_type": "stream",
     "text": [
      "hi!\n",
      "hi!\n"
     ]
    }
   ],
   "source": [
    "x = \"hi!\"\n",
    "def param_func(x):\n",
    "    print(x)\n",
    "    x = \"bye!\"\n",
    "    \n",
    "param_func(x)\n",
    "print(x)\n"
   ]
  },
  {
   "cell_type": "markdown",
   "metadata": {},
   "source": [
    "Note that the assignment of bye! to parameter x inside the function does not affect variable x outside the function\n",
    "\n"
   ]
  },
  {
   "cell_type": "code",
   "execution_count": 52,
   "metadata": {},
   "outputs": [
    {
     "name": "stdout",
     "output_type": "stream",
     "text": [
      "hi!\n",
      "hi!\n"
     ]
    }
   ],
   "source": [
    "x = \"hi!\"\n",
    "\n",
    "def param_func(y):\n",
    "    print(y)\n",
    "    x = \"bye\"\n",
    "\n",
    "param_func(x)\n",
    "print(x)"
   ]
  },
  {
   "cell_type": "markdown",
   "metadata": {},
   "source": [
    "Even though we're passing the value of x as an argument to the function, when we're inside the function, we reference it as being called y\n",
    "\n",
    "Note what happens when we assign x inside the function.  Nothing!  That's because we're creating a NEW version of the x variable that only exists inside the function. It's an x local to inside the function, different from the x outside the function"
   ]
  },
  {
   "cell_type": "code",
   "execution_count": 53,
   "metadata": {},
   "outputs": [],
   "source": [
    "def silly_function(my_param):\n",
    "    print (\"You entered: \", my_param)\n",
    "    return my_param * 3\n",
    "    print (\"This never actually happens!\")"
   ]
  },
  {
   "cell_type": "code",
   "execution_count": 54,
   "metadata": {},
   "outputs": [
    {
     "name": "stdout",
     "output_type": "stream",
     "text": [
      "You entered:  ha!\n"
     ]
    },
    {
     "data": {
      "text/plain": [
       "'ha!ha!ha!'"
      ]
     },
     "execution_count": 54,
     "metadata": {},
     "output_type": "execute_result"
    }
   ],
   "source": [
    "silly_function(\"ha!\")"
   ]
  },
  {
   "cell_type": "code",
   "execution_count": 55,
   "metadata": {},
   "outputs": [
    {
     "name": "stdout",
     "output_type": "stream",
     "text": [
      "You entered:  4\n"
     ]
    },
    {
     "data": {
      "text/plain": [
       "12"
      ]
     },
     "execution_count": 55,
     "metadata": {},
     "output_type": "execute_result"
    }
   ],
   "source": [
    "silly_function(4)"
   ]
  },
  {
   "cell_type": "markdown",
   "metadata": {},
   "source": [
    "The function terminates execution when it reaches the return statement (so the last print neveer executes)"
   ]
  },
  {
   "cell_type": "markdown",
   "metadata": {},
   "source": [
    "### Accessing a global variable from inside a function"
   ]
  },
  {
   "cell_type": "code",
   "execution_count": 56,
   "metadata": {},
   "outputs": [
    {
     "name": "stdout",
     "output_type": "stream",
     "text": [
      "(inside) Python is awesome\n",
      "Python is awesome\n"
     ]
    }
   ],
   "source": [
    "x = \"awesome\"\n",
    "\n",
    "def myfunc():\n",
    "    print(\"(inside) Python is \" + x)\n",
    "\n",
    "myfunc()\n",
    "\n",
    "print(\"Python is \" + x)"
   ]
  },
  {
   "cell_type": "markdown",
   "metadata": {},
   "source": [
    "### Creating a local variable inside a function, locally overrides global variable"
   ]
  },
  {
   "cell_type": "code",
   "execution_count": 57,
   "metadata": {},
   "outputs": [
    {
     "name": "stdout",
     "output_type": "stream",
     "text": [
      "(inside) Python is fantastic\n",
      "Python is awesome\n"
     ]
    }
   ],
   "source": [
    "x = \"awesome\"\n",
    "\n",
    "def myfunc():\n",
    "    x = \"fantastic\"\n",
    "    print(\"(inside) Python is \" + x)\n",
    "\n",
    "myfunc()\n",
    "print(\"Python is \" + x)"
   ]
  },
  {
   "cell_type": "markdown",
   "metadata": {},
   "source": [
    "### Modifying a global variable from inside a function"
   ]
  },
  {
   "cell_type": "code",
   "execution_count": 58,
   "metadata": {},
   "outputs": [
    {
     "name": "stdout",
     "output_type": "stream",
     "text": [
      "(inside) Python is fantastic\n",
      "Python is fantastic\n"
     ]
    }
   ],
   "source": [
    "x = \"awesome\"\n",
    "\n",
    "def myfunc():\n",
    "    global x   # you state that you want the global variable, not to create a local variable\n",
    "    x = \"fantastic\"\n",
    "    print(\"(inside) Python is \" + x)\n",
    "\n",
    "myfunc()\n",
    "\n",
    "print(\"Python is \" + x)"
   ]
  },
  {
   "cell_type": "markdown",
   "metadata": {},
   "source": [
    "### Accessing a global variable from inside a function"
   ]
  },
  {
   "cell_type": "code",
   "execution_count": 59,
   "metadata": {},
   "outputs": [
    {
     "name": "stdout",
     "output_type": "stream",
     "text": [
      "Enter temperature in Fahrenheit 50\n",
      "Inside: 32.0\n",
      "Outside: 32.0\n",
      "50.0 Fahrenheit is 10.0 Celsius\n"
     ]
    }
   ],
   "source": [
    "f_temp = float(input('Enter temperature in Fahrenheit '))  # Try 50\n",
    "\n",
    "f_water_freezes = 32.0  \n",
    "\n",
    "def f2c(temp_f):\n",
    "    print(f'Inside: {f_water_freezes}')\n",
    "    temp_c = (temp_f - f_water_freezes) * 5.0 / 9.0   # note: using global var\n",
    "    return temp_c\n",
    "\n",
    "c_temp = f2c(f_temp)\n",
    "\n",
    "print(f'Outside: {f_water_freezes}')\n",
    "print(f'{f_temp} Fahrenheit is {c_temp} Celsius')"
   ]
  },
  {
   "cell_type": "markdown",
   "metadata": {},
   "source": [
    "### Modifying a global variable from inside a function: Side-effects"
   ]
  },
  {
   "cell_type": "code",
   "execution_count": null,
   "metadata": {},
   "outputs": [],
   "source": [
    "f_temp = float(input('Enter temperature in Fahrenheit '))  # Try 50\n",
    "\n",
    "f_water_freezes = 32.0  \n",
    "\n",
    "def f2c(temp_f):\n",
    "    global f_water_freezes  # dangerous!\n",
    "    print(f'Inside: {f_water_freezes}')\n",
    "    f_water_freezes = 0 # malicious!\n",
    "    print(f'Inside f2c after hack: {f_water_freezes}')\n",
    "    temp_c = (temp_f - f_water_freezes) * 5.0 / 9.0\n",
    "    return temp_c\n",
    "\n",
    "c_temp = f2c(f_temp)\n",
    "\n",
    "print(f'Outside: {f_water_freezes}')\n",
    "print(f'{f_temp} Fahrenheit is {c_temp} Celsius')"
   ]
  },
  {
   "cell_type": "markdown",
   "metadata": {},
   "source": [
    "After changing f_water_freezes to 0 any other function in your program that uses that variable will get that wrong value"
   ]
  },
  {
   "cell_type": "markdown",
   "metadata": {},
   "source": [
    "back to slides"
   ]
  },
  {
   "cell_type": "code",
   "execution_count": null,
   "metadata": {},
   "outputs": [],
   "source": []
  }
 ],
 "metadata": {
  "anaconda-cloud": {},
  "kernelspec": {
   "display_name": "Python 3 (ipykernel)",
   "language": "python",
   "name": "python3"
  },
  "language_info": {
   "codemirror_mode": {
    "name": "ipython",
    "version": 3
   },
   "file_extension": ".py",
   "mimetype": "text/x-python",
   "name": "python",
   "nbconvert_exporter": "python",
   "pygments_lexer": "ipython3",
   "version": "3.11.3"
  }
 },
 "nbformat": 4,
 "nbformat_minor": 4
}
