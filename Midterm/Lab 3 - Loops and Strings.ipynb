{
 "cells": [
  {
   "cell_type": "markdown",
   "metadata": {},
   "source": [
    "## Find the second largest number in a list\n",
    "\n",
    "In class, we wrote a function to find the largest number in a list. Write a function to find the second largest number in a list."
   ]
  },
  {
   "cell_type": "code",
   "execution_count": 22,
   "metadata": {},
   "outputs": [
    {
     "name": "stdout",
     "output_type": "stream",
     "text": [
      "The second-largest number in the list is: 36\n"
     ]
    }
   ],
   "source": [
    "def find_second_largest(numbers):\n",
    "    if len(numbers) < 2:\n",
    "        return \"List should have at least two numbers.\"\n",
    "\n",
    "    largest = second_largest = None\n",
    "\n",
    "    for number in numbers:\n",
    "        if largest is None:\n",
    "            largest = number\n",
    "        elif number > largest:\n",
    "            second_largest = largest\n",
    "            largest = number\n",
    "        elif second_largest is not None and number > second_largest and number != largest:\n",
    "            second_largest = number\n",
    "\n",
    "    return second_largest\n",
    "\n",
    "numbers_list = [12, 45, 8, 21, 36, 14, 7]\n",
    "second_largest = find_second_largest(numbers_list)\n",
    "\n",
    "if second_largest:\n",
    "    print(f\"The second-largest number in the list is: {second_largest}\")\n",
    "else:\n",
    "    print(\"There is no second largest number\")"
   ]
  },
  {
   "cell_type": "markdown",
   "metadata": {},
   "source": [
    "## Lists and Strings\n",
    "\n",
    "Both lists and strings are sequences of values. In a string, the values are characters; in a list, they can be any type. The bracket operator indexes an element of a list.\n"
   ]
  },
  {
   "cell_type": "code",
   "execution_count": 23,
   "metadata": {},
   "outputs": [
    {
     "name": "stdout",
     "output_type": "stream",
     "text": [
      "H\n",
      "e\n",
      "o\n",
      "l\n"
     ]
    }
   ],
   "source": [
    "nameList = ['Harry', 'Hermione', 'Ron', 'Neville']\n",
    "number_of_names = len(nameList)\n",
    "for i in range(number_of_names):\n",
    "    print(nameList[i][-i])"
   ]
  },
  {
   "cell_type": "markdown",
   "metadata": {},
   "source": [
    "## Patterns!\n",
    "\n",
    "Creating patterns with Python is a fun way to learn about repetition in programming.  We can create patterns using the `range()` function and a `for` loop. Try and create the following pattern\n",
    "\n",
    "<pre>\n",
    "*\n",
    "**\n",
    "***\n",
    "****\n",
    "*****\n",
    ".\n",
    ".\n",
    ".\n",
    "n times\n",
    "</pre>"
   ]
  },
  {
   "cell_type": "code",
   "execution_count": 24,
   "metadata": {},
   "outputs": [
    {
     "name": "stdout",
     "output_type": "stream",
     "text": [
      "*\n",
      "**\n",
      "***\n",
      "****\n",
      "*****\n",
      "******\n",
      "*******\n",
      "********\n"
     ]
    }
   ],
   "source": [
    "n = int(input('Enter the size of the triangle'))\n",
    "for i in range(n):\n",
    "    for j in range(i+1):\n",
    "        print(\"*\",end=\"\")\n",
    "    print()"
   ]
  },
  {
   "cell_type": "code",
   "execution_count": 25,
   "metadata": {},
   "outputs": [
    {
     "name": "stdout",
     "output_type": "stream",
     "text": [
      "*\n",
      "**\n",
      "***\n",
      "****\n",
      "*****\n",
      "******\n",
      "*******\n",
      "********\n",
      "*********\n",
      "**********\n",
      "***********\n",
      "************\n",
      "*************\n",
      "**************\n",
      "***************\n"
     ]
    }
   ],
   "source": [
    "# The condensed version\n",
    "n = int(input('Enter the size of the triangle'))\n",
    "for i in range(n):\n",
    "    print(\"*\"*(i+1))"
   ]
  },
  {
   "cell_type": "markdown",
   "metadata": {},
   "source": [
    "As an exercise try creating the mirror image of the pattern above.\n",
    "\n",
    "<pre>\n",
    "    *\n",
    "   **\n",
    "  ***\n",
    " ****\n",
    "*****\n",
    "</pre>"
   ]
  },
  {
   "cell_type": "markdown",
   "metadata": {},
   "source": [
    "## Armstrong numbers - Numbers and Loops\n",
    "\n",
    "An Armstrong number is a number that is the sum of its own digits each raised to the power of the number of digits. Let us apply a combination of functions, loops and conditional statements to check whether a given number is an Armstrong number or not.\n",
    "\n",
    "For example:\n",
    "\n",
    "371 is an Armstrong number since 3<sup>3</sup> + 7<sup>3</sup> + 1<sup>3</sup> = 371.\n",
    "\n",
    "1634 is an Armstrong number since 1<sup>4</sup> + 6<sup>4</sup> + 3<sup>4</sup> + 4<sup>4</sup> = 1634."
   ]
  },
  {
   "cell_type": "code",
   "execution_count": 26,
   "metadata": {},
   "outputs": [
    {
     "name": "stdout",
     "output_type": "stream",
     "text": [
      "134 is not an Armstrong number.\n"
     ]
    }
   ],
   "source": [
    "def number_of_digits(num):\n",
    "    # Function to calculate the number of digits in a number\n",
    "    count = 0\n",
    "    while num > 0:\n",
    "        num //= 10\n",
    "        count += 1\n",
    "    return count\n",
    "\n",
    "def calculate_armstrong_sum(num, n):\n",
    "    # Function to calculate the sum of nth power of each digit in a number\n",
    "    armstrong_sum = 0\n",
    "    temp = num\n",
    "    while temp > 0:\n",
    "        digit = temp % 10\n",
    "        armstrong_sum += digit ** n\n",
    "        temp //= 10\n",
    "    return armstrong_sum\n",
    "\n",
    "def is_armstrong_number(num):\n",
    "    # Function to check if a number is an Armstrong number\n",
    "    n = number_of_digits(num)\n",
    "    armstrong_sum = calculate_armstrong_sum(num, n)\n",
    "    return armstrong_sum == num\n",
    "\n",
    "number = int(input(\"Enter a number to check for Armstrong: \"))\n",
    "result = is_armstrong_number(number)\n",
    "\n",
    "if result:\n",
    "    print(f\"{number} is an Armstrong number.\")\n",
    "else:\n",
    "    print(f\"{number} is not an Armstrong number.\")\n"
   ]
  },
  {
   "cell_type": "markdown",
   "metadata": {},
   "source": [
    "We can find all the armstrong numbers less than 10000 by running a loop from 1 to 10000 and checking if each number is an armstrong number or not."
   ]
  },
  {
   "cell_type": "code",
   "execution_count": 29,
   "metadata": {},
   "outputs": [
    {
     "name": "stdout",
     "output_type": "stream",
     "text": [
      "1\n",
      "2\n",
      "3\n",
      "4\n",
      "5\n",
      "6\n",
      "7\n",
      "8\n",
      "9\n",
      "153\n",
      "370\n",
      "371\n",
      "407\n",
      "1634\n",
      "8208\n",
      "9474\n"
     ]
    }
   ],
   "source": [
    "for number in range(1, 10000):\n",
    "    if is_armstrong_number(number):\n",
    "        print(number)"
   ]
  },
  {
   "cell_type": "markdown",
   "metadata": {},
   "source": [
    "# More nesting in loops"
   ]
  },
  {
   "cell_type": "code",
   "execution_count": 30,
   "metadata": {},
   "outputs": [
    {
     "name": "stdout",
     "output_type": "stream",
     "text": [
      "1 x 1 = 1\t1 x 2 = 2\t1 x 3 = 3\t1 x 4 = 4\t1 x 5 = 5\t1 x 6 = 6\t1 x 7 = 7\t1 x 8 = 8\t1 x 9 = 9\t1 x 10 = 10\t\n",
      "2 x 1 = 2\t2 x 2 = 4\t2 x 3 = 6\t2 x 4 = 8\t2 x 5 = 10\t2 x 6 = 12\t2 x 7 = 14\t2 x 8 = 16\t2 x 9 = 18\t2 x 10 = 20\t\n",
      "3 x 1 = 3\t3 x 2 = 6\t3 x 3 = 9\t3 x 4 = 12\t3 x 5 = 15\t3 x 6 = 18\t3 x 7 = 21\t3 x 8 = 24\t3 x 9 = 27\t3 x 10 = 30\t\n",
      "4 x 1 = 4\t4 x 2 = 8\t4 x 3 = 12\t4 x 4 = 16\t4 x 5 = 20\t4 x 6 = 24\t4 x 7 = 28\t4 x 8 = 32\t4 x 9 = 36\t4 x 10 = 40\t\n",
      "5 x 1 = 5\t5 x 2 = 10\t5 x 3 = 15\t5 x 4 = 20\t5 x 5 = 25\t5 x 6 = 30\t5 x 7 = 35\t5 x 8 = 40\t5 x 9 = 45\t5 x 10 = 50\t\n",
      "6 x 1 = 6\t6 x 2 = 12\t6 x 3 = 18\t6 x 4 = 24\t6 x 5 = 30\t6 x 6 = 36\t6 x 7 = 42\t6 x 8 = 48\t6 x 9 = 54\t6 x 10 = 60\t\n",
      "7 x 1 = 7\t7 x 2 = 14\t7 x 3 = 21\t7 x 4 = 28\t7 x 5 = 35\t7 x 6 = 42\t7 x 7 = 49\t7 x 8 = 56\t7 x 9 = 63\t7 x 10 = 70\t\n",
      "8 x 1 = 8\t8 x 2 = 16\t8 x 3 = 24\t8 x 4 = 32\t8 x 5 = 40\t8 x 6 = 48\t8 x 7 = 56\t8 x 8 = 64\t8 x 9 = 72\t8 x 10 = 80\t\n",
      "9 x 1 = 9\t9 x 2 = 18\t9 x 3 = 27\t9 x 4 = 36\t9 x 5 = 45\t9 x 6 = 54\t9 x 7 = 63\t9 x 8 = 72\t9 x 9 = 81\t9 x 10 = 90\t\n",
      "10 x 1 = 10\t10 x 2 = 20\t10 x 3 = 30\t10 x 4 = 40\t10 x 5 = 50\t10 x 6 = 60\t10 x 7 = 70\t10 x 8 = 80\t10 x 9 = 90\t10 x 10 = 100\t\n"
     ]
    }
   ],
   "source": [
    "# Set the range for the multiplication table\n",
    "table_range = 10\n",
    "\n",
    "# Outer loop for the multiplicand\n",
    "for multiplicand in range(1, table_range + 1):\n",
    "    # Inner loop for the multiplier\n",
    "    for multiplier in range(1, table_range + 1):\n",
    "        product = multiplicand * multiplier\n",
    "        # Print each product with proper formatting\n",
    "        print(f\"{multiplicand} x {multiplier} = {product}\", end='\\t')\n",
    "    # Move to the next line after completing inner loop\n",
    "    print()"
   ]
  },
  {
   "cell_type": "markdown",
   "metadata": {},
   "source": [
    "We can make the output easier to read by formatting the numbers so that they line up nicely. The following example uses string formatting to adjust the output."
   ]
  },
  {
   "cell_type": "code",
   "execution_count": 55,
   "metadata": {},
   "outputs": [
    {
     "name": "stdout",
     "output_type": "stream",
     "text": [
      " 1 x  1 =   1   1 x  2 =   2   1 x  3 =   3   1 x  4 =   4   1 x  5 =   5   1 x  6 =   6   1 x  7 =   7   1 x  8 =   8   1 x  9 =   9   1 x 10 =  10  \n",
      " 2 x  1 =   2   2 x  2 =   4   2 x  3 =   6   2 x  4 =   8   2 x  5 =  10   2 x  6 =  12   2 x  7 =  14   2 x  8 =  16   2 x  9 =  18   2 x 10 =  20  \n",
      " 3 x  1 =   3   3 x  2 =   6   3 x  3 =   9   3 x  4 =  12   3 x  5 =  15   3 x  6 =  18   3 x  7 =  21   3 x  8 =  24   3 x  9 =  27   3 x 10 =  30  \n",
      " 4 x  1 =   4   4 x  2 =   8   4 x  3 =  12   4 x  4 =  16   4 x  5 =  20   4 x  6 =  24   4 x  7 =  28   4 x  8 =  32   4 x  9 =  36   4 x 10 =  40  \n",
      " 5 x  1 =   5   5 x  2 =  10   5 x  3 =  15   5 x  4 =  20   5 x  5 =  25   5 x  6 =  30   5 x  7 =  35   5 x  8 =  40   5 x  9 =  45   5 x 10 =  50  \n",
      " 6 x  1 =   6   6 x  2 =  12   6 x  3 =  18   6 x  4 =  24   6 x  5 =  30   6 x  6 =  36   6 x  7 =  42   6 x  8 =  48   6 x  9 =  54   6 x 10 =  60  \n",
      " 7 x  1 =   7   7 x  2 =  14   7 x  3 =  21   7 x  4 =  28   7 x  5 =  35   7 x  6 =  42   7 x  7 =  49   7 x  8 =  56   7 x  9 =  63   7 x 10 =  70  \n",
      " 8 x  1 =   8   8 x  2 =  16   8 x  3 =  24   8 x  4 =  32   8 x  5 =  40   8 x  6 =  48   8 x  7 =  56   8 x  8 =  64   8 x  9 =  72   8 x 10 =  80  \n",
      " 9 x  1 =   9   9 x  2 =  18   9 x  3 =  27   9 x  4 =  36   9 x  5 =  45   9 x  6 =  54   9 x  7 =  63   9 x  8 =  72   9 x  9 =  81   9 x 10 =  90  \n",
      "10 x  1 =  10  10 x  2 =  20  10 x  3 =  30  10 x  4 =  40  10 x  5 =  50  10 x  6 =  60  10 x  7 =  70  10 x  8 =  80  10 x  9 =  90  10 x 10 = 100  \n"
     ]
    }
   ],
   "source": [
    "# Set the range for the multiplication table\n",
    "table_range = 10\n",
    "\n",
    "# Define the width for each element in the table\n",
    "width_multiplicand = 2\n",
    "width_multiplier = 2\n",
    "width_product = 3\n",
    "\n",
    "for multiplicand in range(1, table_range + 1):\n",
    "    for multiplier in range(1, table_range + 1):\n",
    "        product = multiplicand * multiplier\n",
    "        # Print each product with fixed-width spacing\n",
    "        print(f\"{multiplicand:>{width_multiplicand}} x {multiplier:>{width_multiplier}} = {product:>{width_product}}\", end='  ')\n",
    "    print()\n"
   ]
  },
  {
   "cell_type": "markdown",
   "metadata": {},
   "source": [
    "## Working with Strings\n",
    "\n",
    "Strings provide a bunch of functions out of the box that can be used to manipulate them.  Let us look at some of them."
   ]
  },
  {
   "cell_type": "markdown",
   "metadata": {},
   "source": [
    "`strip()` can be used to remove characters from the start and end of the string.  By default it removes whitespace characters."
   ]
  },
  {
   "cell_type": "code",
   "execution_count": 31,
   "metadata": {},
   "outputs": [
    {
     "name": "stdout",
     "output_type": "stream",
     "text": [
      "Original String:    Python   is   fun!   \n",
      "Stripped String: Python   is   fun!\n"
     ]
    }
   ],
   "source": [
    "input_string = \"   Python   is   fun!   \"\n",
    "stripped_string = input_string.strip()\n",
    "print(\"Original String:\", input_string)\n",
    "print(\"Stripped String:\", stripped_string)"
   ]
  },
  {
   "cell_type": "code",
   "execution_count": 32,
   "metadata": {},
   "outputs": [
    {
     "name": "stdout",
     "output_type": "stream",
     "text": [
      "rmour\n",
      "abe\n",
      "rmour\n",
      "mou\n"
     ]
    }
   ],
   "source": [
    "print('armour'.strip('a'))\n",
    "print('label'.strip('l'))\n",
    "print('armour'.strip('am'))\n",
    "print('aaaaaarmourrrrrrrrr'.strip('ar'))"
   ]
  },
  {
   "cell_type": "markdown",
   "metadata": {},
   "source": [
    "The `join()` method takes all items in an iterable and joins them into one string using a separator."
   ]
  },
  {
   "cell_type": "code",
   "execution_count": 33,
   "metadata": {},
   "outputs": [
    {
     "name": "stdout",
     "output_type": "stream",
     "text": [
      "CSV String: John,Doe,30,New York\n"
     ]
    }
   ],
   "source": [
    "data = [\"John\", \"Doe\", \"30\", \"New York\"]\n",
    "csv_string = \",\".join(data)\n",
    "print(\"CSV String:\", csv_string)"
   ]
  },
  {
   "cell_type": "markdown",
   "metadata": {},
   "source": [
    "`split()` turns a string into a list where each word is a list item.  By default it splits on whitespace."
   ]
  },
  {
   "cell_type": "code",
   "execution_count": 34,
   "metadata": {},
   "outputs": [
    {
     "name": "stdout",
     "output_type": "stream",
     "text": [
      "['welcome', 'to', 'the', 'jungle']\n"
     ]
    }
   ],
   "source": [
    "txt = \"welcome to the jungle\"\n",
    "print(txt.split())"
   ]
  },
  {
   "cell_type": "code",
   "execution_count": 35,
   "metadata": {},
   "outputs": [
    {
     "name": "stdout",
     "output_type": "stream",
     "text": [
      "Original String: John,Doe,30,New York\n",
      "List of Items: ['John', 'Doe', '30', 'New York']\n"
     ]
    }
   ],
   "source": [
    "items_string = \"John,Doe,30,New York\"\n",
    "items_list = items_string.split(',')\n",
    "\n",
    "# Print the original string and the list of items\n",
    "print(\"Original String:\", items_string)\n",
    "print(\"List of Items:\", items_list)"
   ]
  },
  {
   "cell_type": "markdown",
   "metadata": {},
   "source": [
    "The `find()` method finds the first occurrence of the specified value. It returns -1 if the value is not found.\n",
    "\n",
    "Let us simulate file search in your computers with the help of these functions."
   ]
  },
  {
   "cell_type": "code",
   "execution_count": 36,
   "metadata": {},
   "outputs": [
    {
     "name": "stdout",
     "output_type": "stream",
     "text": [
      "Files with 'images' in the name:\n",
      "/path/to/images/image.jpg\n"
     ]
    }
   ],
   "source": [
    "def extract_files_with_keyword(file_paths, keyword):\n",
    "    # Use find to locate file names containing the specified keyword\n",
    "    matching_files = []\n",
    "    for file in file_paths:\n",
    "        if file.find(keyword) != -1:\n",
    "            matching_files.append(file)\n",
    "    return matching_files\n",
    "\n",
    "# Example list of file paths\n",
    "file_paths = [\n",
    "    \"/path/to/documents/document1.txt\",\n",
    "    \"/path/to/images/image.jpg\",\n",
    "    \"/path/to/documents/document2.txt\",\n",
    "    \"/path/to/scripts/script.py\",\n",
    "    \"/path/to/data/data.csv\",\n",
    "]\n",
    "\n",
    "# User specifies a keyword to search for in file names\n",
    "user_keyword = input(\"Enter a keyword to search for in file names: \")\n",
    "\n",
    "# Extract file names containing the specified keyword\n",
    "matching_files = extract_files_with_keyword(file_paths, user_keyword)\n",
    "\n",
    "# Display the matching file names\n",
    "if matching_files:\n",
    "    print(f\"Files with '{user_keyword}' in the name:\")\n",
    "    for file in matching_files:\n",
    "        print(file)\n",
    "else:\n",
    "    print(f\"No files with '{user_keyword}' in the name found.\")"
   ]
  },
  {
   "cell_type": "markdown",
   "metadata": {},
   "source": [
    "## More with Unicode.\n",
    "\n",
    "Let's say you want to print Delta <a href='https://www.google.com/imgres?imgurl=https%3A%2F%2Fupload.wikimedia.org%2Fwikipedia%2Fcommons%2Fthumb%2Ff%2Ff5%2FGreek_uc_delta.svg%2F1200px-Greek_uc_delta.svg.png&imgrefurl=https%3A%2F%2Fen.wiktionary.org%2Fwiki%2F%25CE%2594&tbnid=Na_L0Dign_1YIM&vet=12ahUKEwiUpuKH8OH8AhW4OEQIHbZ2BfAQMygAegUIARDvAQ..i&docid=0t_PLoHydITphM&w=1200&h=1200&q=Delta%20greek&ved=2ahUKEwiUpuKH8OH8AhW4OEQIHbZ2BfAQMygAegUIARDvAQ'>(Greek capital letter)</a>"
   ]
  },
  {
   "cell_type": "code",
   "execution_count": 37,
   "metadata": {},
   "outputs": [
    {
     "name": "stdout",
     "output_type": "stream",
     "text": [
      "Δ\n"
     ]
    }
   ],
   "source": [
    "print(\"\\N{GREEK CAPITAL LETTER DELTA}\")"
   ]
  },
  {
   "cell_type": "markdown",
   "metadata": {},
   "source": [
    "or a snowman?"
   ]
  },
  {
   "cell_type": "code",
   "execution_count": 38,
   "metadata": {},
   "outputs": [
    {
     "name": "stdout",
     "output_type": "stream",
     "text": [
      "☃\n"
     ]
    }
   ],
   "source": [
    "print(u'\\N{snowman}')"
   ]
  },
  {
   "cell_type": "markdown",
   "metadata": {},
   "source": [
    "Perhaps another language?"
   ]
  },
  {
   "cell_type": "code",
   "execution_count": 39,
   "metadata": {},
   "outputs": [
    {
     "name": "stdout",
     "output_type": "stream",
     "text": [
      "中国\n"
     ]
    }
   ],
   "source": [
    "cn = '中国'\n",
    "print(cn)"
   ]
  },
  {
   "cell_type": "markdown",
   "metadata": {},
   "source": [
    "You can even mix and match the strings, since they are in unicode."
   ]
  },
  {
   "cell_type": "code",
   "execution_count": 40,
   "metadata": {},
   "outputs": [
    {
     "name": "stdout",
     "output_type": "stream",
     "text": [
      "Malayalam looks nice in Python!\n",
      "Go! മലയാളലിപി Go!\n",
      "9\n"
     ]
    }
   ],
   "source": [
    "e = 'Malayalam looks nice in Python!'\n",
    "g = 'Go!'\n",
    "m = 'മലയാളലിപി'\n",
    "print(e + '\\n' + g + ' ' + m + ' ' + g)\n",
    "print(len(m))"
   ]
  },
  {
   "cell_type": "markdown",
   "metadata": {},
   "source": [
    "Ord / Chr"
   ]
  },
  {
   "cell_type": "code",
   "execution_count": 41,
   "metadata": {},
   "outputs": [
    {
     "name": "stdout",
     "output_type": "stream",
     "text": [
      "63\n"
     ]
    }
   ],
   "source": [
    "print(ord('?')) # to find the unicode of a character"
   ]
  },
  {
   "cell_type": "code",
   "execution_count": 42,
   "metadata": {},
   "outputs": [
    {
     "name": "stdout",
     "output_type": "stream",
     "text": [
      "?\n"
     ]
    }
   ],
   "source": [
    "print(chr(63)) # to find the character from its unicode"
   ]
  },
  {
   "cell_type": "code",
   "execution_count": 43,
   "metadata": {},
   "outputs": [
    {
     "name": "stdout",
     "output_type": "stream",
     "text": [
      "65 A\n",
      "66 B\n",
      "67 C\n",
      "68 D\n",
      "69 E\n",
      "70 F\n",
      "71 G\n",
      "72 H\n",
      "73 I\n",
      "74 J\n",
      "75 K\n",
      "76 L\n",
      "77 M\n",
      "78 N\n",
      "79 O\n",
      "80 P\n",
      "81 Q\n",
      "82 R\n",
      "83 S\n",
      "84 T\n",
      "85 U\n",
      "86 V\n",
      "87 W\n",
      "88 X\n",
      "89 Y\n",
      "90 Z\n"
     ]
    }
   ],
   "source": [
    "for unic in range(ord('A'), ord('Z')+1):\n",
    "    print(unic, chr(unic))"
   ]
  }
 ],
 "metadata": {
  "kernelspec": {
   "display_name": "Python 3",
   "language": "python",
   "name": "python3"
  },
  "language_info": {
   "codemirror_mode": {
    "name": "ipython",
    "version": 3
   },
   "file_extension": ".py",
   "mimetype": "text/x-python",
   "name": "python",
   "nbconvert_exporter": "python",
   "pygments_lexer": "ipython3",
   "version": "3.11.7"
  }
 },
 "nbformat": 4,
 "nbformat_minor": 2
}
