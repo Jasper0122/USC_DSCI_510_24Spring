{
 "cells": [
  {
   "cell_type": "markdown",
   "id": "14b33488-6855-496e-b1f4-679cffabdca6",
   "metadata": {},
   "source": [
    "# A simple 2D Vector Class"
   ]
  },
  {
   "cell_type": "code",
   "execution_count": 19,
   "id": "c08ff9c3-578b-4865-8052-95cd6b8f998e",
   "metadata": {},
   "outputs": [],
   "source": [
    "import math\n",
    "\n",
    "class Vector:\n",
    "    def __init__(self, x=0, y=0):\n",
    "        self.x = x\n",
    "        self.y = y\n",
    "\n",
    "    def __add__(self, other):\n",
    "        x = self.x + other.x\n",
    "        y = self.y + other.y\n",
    "        return Vector(x,y)\n",
    "\n",
    "    def __mul__(self, scalar):\n",
    "        return Vector(self.x * scalar, self.y * scalar)\n",
    "\n",
    "    def __abs__(self):\n",
    "        return math.hypot(self.x, self.y)\n",
    "        \n",
    "    def __repr__(self):\n",
    "        return f'Vector({self.x!r}, {self.y!r})'\n",
    "\n",
    "    def __bool__(self):  \n",
    "        return bool(abs(self))        "
   ]
  },
  {
   "cell_type": "code",
   "execution_count": 20,
   "id": "366ac6c5-e082-4a56-a5b6-bf216dbe03fd",
   "metadata": {},
   "outputs": [],
   "source": [
    "v1 = Vector(3,4)\n",
    "v2 = Vector(5,7)"
   ]
  },
  {
   "cell_type": "code",
   "execution_count": 21,
   "id": "a8f4f799-cfb7-4ac6-ae55-32161de1d4a1",
   "metadata": {},
   "outputs": [
    {
     "data": {
      "text/plain": [
       "Vector(8, 11)"
      ]
     },
     "execution_count": 21,
     "metadata": {},
     "output_type": "execute_result"
    }
   ],
   "source": [
    "v1+v2"
   ]
  },
  {
   "cell_type": "code",
   "execution_count": 23,
   "id": "86c56800-b1c9-4a1c-b5e1-48510a316871",
   "metadata": {},
   "outputs": [
    {
     "data": {
      "text/plain": [
       "Vector(9, 12)"
      ]
     },
     "execution_count": 23,
     "metadata": {},
     "output_type": "execute_result"
    }
   ],
   "source": [
    "v1 * 3"
   ]
  },
  {
   "cell_type": "code",
   "execution_count": 24,
   "id": "ea811951-f78b-4f3a-8e82-e7d1b322173e",
   "metadata": {},
   "outputs": [
    {
     "data": {
      "text/plain": [
       "5.0"
      ]
     },
     "execution_count": 24,
     "metadata": {},
     "output_type": "execute_result"
    }
   ],
   "source": [
    "abs(v1)"
   ]
  },
  {
   "cell_type": "code",
   "execution_count": 25,
   "id": "44802a83-3aae-4146-be2e-070b1e58871c",
   "metadata": {},
   "outputs": [
    {
     "data": {
      "text/plain": [
       "8.602325267042627"
      ]
     },
     "execution_count": 25,
     "metadata": {},
     "output_type": "execute_result"
    }
   ],
   "source": [
    "abs(v2)"
   ]
  },
  {
   "cell_type": "code",
   "execution_count": 33,
   "id": "8d30bd0b-c601-4f6d-b85b-167247ce944f",
   "metadata": {},
   "outputs": [
    {
     "name": "stdout",
     "output_type": "stream",
     "text": [
      "False\n"
     ]
    }
   ],
   "source": [
    "v = v1\n",
    "# v = Vector()\n",
    "\n",
    "if v:\n",
    "    print('True')\n",
    "else:\n",
    "    print('False')"
   ]
  },
  {
   "cell_type": "code",
   "execution_count": null,
   "id": "cd17e9fd-1042-4fa1-8310-f496923971d6",
   "metadata": {},
   "outputs": [],
   "source": []
  }
 ],
 "metadata": {
  "kernelspec": {
   "display_name": "Python 3 (ipykernel)",
   "language": "python",
   "name": "python3"
  },
  "language_info": {
   "codemirror_mode": {
    "name": "ipython",
    "version": 3
   },
   "file_extension": ".py",
   "mimetype": "text/x-python",
   "name": "python",
   "nbconvert_exporter": "python",
   "pygments_lexer": "ipython3",
   "version": "3.11.3"
  }
 },
 "nbformat": 4,
 "nbformat_minor": 5
}
