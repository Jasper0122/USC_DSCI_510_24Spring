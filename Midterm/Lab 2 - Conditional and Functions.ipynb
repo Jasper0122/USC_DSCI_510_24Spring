{
 "cells": [
  {
   "cell_type": "markdown",
   "metadata": {},
   "source": [
    "## Find the maximum of three numbers\n",
    "\n",
    "Write a python program to find the maximum of three numbers by invoking the function find_maximum()."
   ]
  },
  {
   "cell_type": "code",
   "execution_count": null,
   "metadata": {},
   "outputs": [],
   "source": [
    "def find_maximum(num1, num2, num3):\n",
    "    if num1 >= num2 and num1 >= num3:\n",
    "        return num1\n",
    "    elif num2 >= num1 and num2 >= num3:\n",
    "        return num2\n",
    "    else:\n",
    "        return num3\n",
    "\n",
    "a = int(input(\"Enter the first number: \"))\n",
    "b = int(input(\"Enter the second number: \"))\n",
    "c = int(input(\"Enter the third number: \"))\n",
    "maximum_value = find_maximum(a, b, c)\n",
    "print(f\"The maximum number is {maximum_value}.\")"
   ]
  },
  {
   "cell_type": "markdown",
   "metadata": {},
   "source": [
    "## Triangle Classification\n",
    "\n",
    "Write a python program to classify a triangle as equilateral, isosceles and scalene, based on the length of its sides."
   ]
  },
  {
   "cell_type": "code",
   "execution_count": null,
   "metadata": {},
   "outputs": [],
   "source": [
    "def classify_triangle(side1, side2, side3):\n",
    "    if side1 == side2 == side3:\n",
    "        return \"Equilateral Triangle\"\n",
    "    elif side1 == side2 or side1 == side3 or side2 == side3:\n",
    "        return \"Isosceles Triangle\"\n",
    "    else:\n",
    "        return \"Scalene Triangle\"\n",
    "\n",
    "a = float(input(\"Enter the length of side 1: \"))\n",
    "b = float(input(\"Enter the length of side 2: \"))\n",
    "c = float(input(\"Enter the length of side 3: \"))\n",
    "triangle_type = classify_triangle(a, b, c)\n",
    "print(f\"The triangle is a {triangle_type}.\")"
   ]
  },
  {
   "cell_type": "markdown",
   "metadata": {},
   "source": [
    "## Handling Exceptions\n",
    "\n",
    "The code below is prone to exceptions. Rewrite the code using try-except to handle the exceptions.\n"
   ]
  },
  {
   "cell_type": "code",
   "execution_count": null,
   "metadata": {},
   "outputs": [],
   "source": [
    "def divide_numbers(a, b):\n",
    "        return a / b\n",
    "\n",
    "num1 = float(input(\"Enter the numerator: \"))\n",
    "num2 = float(input(\"Enter the denominator: \"))\n",
    "\n",
    "division_result = divide_numbers(num1, num2)\n",
    "print(f\"Result of the division: {division_result}\")"
   ]
  },
  {
   "cell_type": "code",
   "execution_count": null,
   "metadata": {},
   "outputs": [],
   "source": [
    "def divide_numbers(a, b):\n",
    "    try:\n",
    "        result = a / b\n",
    "        return result\n",
    "    except ZeroDivisionError:\n",
    "        return \"Error: Division by zero is not allowed\"\n",
    "    except TypeError:\n",
    "        return \"Error: Please provide valid numbers for division\"\n",
    "\n",
    "num1 = float(input(\"Enter the numerator: \"))\n",
    "num2 = float(input(\"Enter the denominator: \"))\n",
    "\n",
    "division_result = divide_numbers(num1, num2)\n",
    "print(f\"Result of the division: {division_result}\")"
   ]
  },
  {
   "cell_type": "markdown",
   "metadata": {},
   "source": [
    "## Scope of Variables"
   ]
  },
  {
   "cell_type": "code",
   "execution_count": null,
   "metadata": {},
   "outputs": [],
   "source": [
    "def demonstrate_scope():\n",
    "    local_var = \"I am a local variable\"\n",
    "    print(f\"Inside the function: {local_var}\")\n",
    "\n",
    "demonstrate_scope()\n",
    "print(local_var)"
   ]
  },
  {
   "cell_type": "code",
   "execution_count": null,
   "metadata": {},
   "outputs": [],
   "source": [
    "global_var = \"I am a global variable\"\n",
    "\n",
    "def demonstrate_global_scope():\n",
    "    global global_var\n",
    "    print(f\"Inside the function: {global_var}\")\n",
    "    global_var = \"Modified global variable\"\n",
    "\n",
    "demonstrate_global_scope()\n",
    "print(f\"Outside the function: {global_var}\")"
   ]
  },
  {
   "cell_type": "markdown",
   "metadata": {},
   "source": [
    "## Spot the error\n",
    "\n",
    "To be eligible for a discount the customer must visit the store in person and either possess a coupon code or be a premium member.\n",
    "The program below is to calculate the eligbility for a discount on a purchase. But it has errors. Find the errors and correct them."
   ]
  },
  {
   "cell_type": "code",
   "execution_count": null,
   "metadata": {},
   "outputs": [],
   "source": [
    "has_coupon_code = True\n",
    "is_premium_member = False\n",
    "visited_in_person = False\n",
    "\n",
    "eligible_for_discount = has_coupon_code or is_premium_member and visited_in_person\n",
    "\n",
    "print(\"Eligibility:\", eligible_for_discount)"
   ]
  }
 ],
 "metadata": {
  "kernelspec": {
   "display_name": "Python 3 (ipykernel)",
   "language": "python",
   "name": "python3"
  },
  "language_info": {
   "codemirror_mode": {
    "name": "ipython",
    "version": 3
   },
   "file_extension": ".py",
   "mimetype": "text/x-python",
   "name": "python",
   "nbconvert_exporter": "python",
   "pygments_lexer": "ipython3",
   "version": "3.11.3"
  }
 },
 "nbformat": 4,
 "nbformat_minor": 2
}
