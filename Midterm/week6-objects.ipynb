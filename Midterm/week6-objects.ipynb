{
 "cells": [
  {
   "cell_type": "markdown",
   "metadata": {},
   "source": [
    "# Classes and objects"
   ]
  },
  {
   "cell_type": "code",
   "execution_count": 1,
   "metadata": {},
   "outputs": [],
   "source": [
    "class PartyAnimal:\n",
    "    x = 0\n",
    "\n",
    "    def party(self):\n",
    "        self.x = self.x + 1\n",
    "        print(\"So far\", self.x)"
   ]
  },
  {
   "cell_type": "code",
   "execution_count": 2,
   "metadata": {},
   "outputs": [],
   "source": [
    "an = PartyAnimal()"
   ]
  },
  {
   "cell_type": "code",
   "execution_count": 3,
   "metadata": {
    "scrolled": true
   },
   "outputs": [
    {
     "name": "stdout",
     "output_type": "stream",
     "text": [
      "So far 1\n",
      "So far 2\n",
      "So far 3\n"
     ]
    }
   ],
   "source": [
    "an.party()\n",
    "an.party()\n",
    "an.party()"
   ]
  },
  {
   "cell_type": "code",
   "execution_count": 4,
   "metadata": {
    "scrolled": true
   },
   "outputs": [
    {
     "name": "stdout",
     "output_type": "stream",
     "text": [
      "<class '__main__.PartyAnimal'>\n"
     ]
    }
   ],
   "source": [
    "print(type(an))"
   ]
  },
  {
   "cell_type": "code",
   "execution_count": 5,
   "metadata": {
    "scrolled": true
   },
   "outputs": [
    {
     "name": "stdout",
     "output_type": "stream",
     "text": [
      "['__class__', '__delattr__', '__dict__', '__dir__', '__doc__', '__eq__', '__format__', '__ge__', '__getattribute__', '__gt__', '__hash__', '__init__', '__init_subclass__', '__le__', '__lt__', '__module__', '__ne__', '__new__', '__reduce__', '__reduce_ex__', '__repr__', '__setattr__', '__sizeof__', '__str__', '__subclasshook__', '__weakref__', 'party', 'x']\n"
     ]
    }
   ],
   "source": [
    "print(dir(an))"
   ]
  },
  {
   "cell_type": "markdown",
   "metadata": {},
   "source": [
    "**dir(object) returns the methods and attributes of the object**"
   ]
  },
  {
   "cell_type": "code",
   "execution_count": 6,
   "metadata": {},
   "outputs": [],
   "source": [
    "an = 5"
   ]
  },
  {
   "cell_type": "code",
   "execution_count": 7,
   "metadata": {
    "scrolled": true
   },
   "outputs": [
    {
     "name": "stdout",
     "output_type": "stream",
     "text": [
      "<class 'int'>\n"
     ]
    }
   ],
   "source": [
    "print(type(an))"
   ]
  },
  {
   "cell_type": "code",
   "execution_count": 8,
   "metadata": {},
   "outputs": [
    {
     "ename": "AttributeError",
     "evalue": "'int' object has no attribute 'party'",
     "output_type": "error",
     "traceback": [
      "\u001b[0;31m---------------------------------------------------------------------------\u001b[0m",
      "\u001b[0;31mAttributeError\u001b[0m                            Traceback (most recent call last)",
      "Cell \u001b[0;32mIn[8], line 1\u001b[0m\n\u001b[0;32m----> 1\u001b[0m \u001b[43man\u001b[49m\u001b[38;5;241;43m.\u001b[39;49m\u001b[43mparty\u001b[49m()\n",
      "\u001b[0;31mAttributeError\u001b[0m: 'int' object has no attribute 'party'"
     ]
    }
   ],
   "source": [
    "an.party()"
   ]
  },
  {
   "cell_type": "code",
   "execution_count": 9,
   "metadata": {},
   "outputs": [],
   "source": [
    "an = PartyAnimal()"
   ]
  },
  {
   "cell_type": "code",
   "execution_count": 10,
   "metadata": {},
   "outputs": [
    {
     "name": "stdout",
     "output_type": "stream",
     "text": [
      "So far 1\n"
     ]
    }
   ],
   "source": [
    "an.party()"
   ]
  },
  {
   "cell_type": "markdown",
   "metadata": {},
   "source": [
    "The PartyAnimal object __an__ is no longer referenced. <br/>\n",
    "The Python garbage collector deallocates its memory"
   ]
  },
  {
   "cell_type": "code",
   "execution_count": 11,
   "metadata": {},
   "outputs": [],
   "source": [
    "class PartyAnimal2:\n",
    "    x = 0\n",
    "\n",
    "    def __init__(self):\n",
    "        print('I am constructed')\n",
    "\n",
    "    def party(self) :\n",
    "        self.x = self.x + 1\n",
    "        print('So far',self.x)\n",
    "\n",
    "    def __del__(self):\n",
    "        print('I am destructed', self.x)\n",
    "\n",
    "        \n",
    "# an2 = PartyAnimal2()\n",
    "# an2.party()\n",
    "# an2.party()\n",
    "# print(dir(an2))\n",
    "# an2 = 42\n",
    "# print('an contains', an)\n",
    "# print(dir(an2))"
   ]
  },
  {
   "cell_type": "code",
   "execution_count": 12,
   "metadata": {},
   "outputs": [
    {
     "name": "stdout",
     "output_type": "stream",
     "text": [
      "I am constructed\n"
     ]
    }
   ],
   "source": [
    "an2 = PartyAnimal2()"
   ]
  },
  {
   "cell_type": "code",
   "execution_count": 13,
   "metadata": {},
   "outputs": [
    {
     "name": "stdout",
     "output_type": "stream",
     "text": [
      "So far 1\n"
     ]
    }
   ],
   "source": [
    "an2.party()"
   ]
  },
  {
   "cell_type": "code",
   "execution_count": 14,
   "metadata": {},
   "outputs": [
    {
     "name": "stdout",
     "output_type": "stream",
     "text": [
      "So far 2\n"
     ]
    }
   ],
   "source": [
    "an2.party()"
   ]
  },
  {
   "cell_type": "code",
   "execution_count": 15,
   "metadata": {},
   "outputs": [
    {
     "name": "stdout",
     "output_type": "stream",
     "text": [
      "['__class__', '__del__', '__delattr__', '__dict__', '__dir__', '__doc__', '__eq__', '__format__', '__ge__', '__getattribute__', '__gt__', '__hash__', '__init__', '__init_subclass__', '__le__', '__lt__', '__module__', '__ne__', '__new__', '__reduce__', '__reduce_ex__', '__repr__', '__setattr__', '__sizeof__', '__str__', '__subclasshook__', '__weakref__', 'party', 'x']\n"
     ]
    }
   ],
   "source": [
    "print(dir(an2))"
   ]
  },
  {
   "cell_type": "code",
   "execution_count": 16,
   "metadata": {},
   "outputs": [
    {
     "name": "stdout",
     "output_type": "stream",
     "text": [
      "I am destructed 2\n"
     ]
    }
   ],
   "source": [
    "an2 = 42"
   ]
  },
  {
   "cell_type": "markdown",
   "metadata": {},
   "source": [
    "The PartyAnimal object __an2__ is no longer referenced. Now you can see the automatic call to the onject destructor. "
   ]
  },
  {
   "cell_type": "code",
   "execution_count": null,
   "metadata": {},
   "outputs": [],
   "source": [
    "print('an contains', an, 'which is of type:' , type(an))"
   ]
  },
  {
   "cell_type": "markdown",
   "metadata": {},
   "source": [
    "### dir() returns all the names in its current scope"
   ]
  },
  {
   "cell_type": "code",
   "execution_count": 17,
   "metadata": {},
   "outputs": [],
   "source": [
    "def f1():\n",
    "    x = 0\n",
    "    y = 1\n",
    "    z = 2\n",
    "    print(dir())"
   ]
  },
  {
   "cell_type": "code",
   "execution_count": 18,
   "metadata": {},
   "outputs": [
    {
     "name": "stdout",
     "output_type": "stream",
     "text": [
      "['x', 'y', 'z']\n"
     ]
    }
   ],
   "source": [
    "f1()"
   ]
  },
  {
   "cell_type": "markdown",
   "metadata": {},
   "source": [
    "## An Employee class (v1)"
   ]
  },
  {
   "cell_type": "code",
   "execution_count": 19,
   "metadata": {},
   "outputs": [],
   "source": [
    "class Employee:\n",
    "    ID = None\n",
    "    first_name = None\n",
    "    last_name = None\n",
    "    salary = None\n",
    "        \n",
    "    def __init__(self, ID, fn, ln, sal):\n",
    "        self.ID = ID\n",
    "        self.first_name = fn\n",
    "        self.last_name = ln\n",
    "        self.salary = sal\n",
    "        \n",
    "    def promote(self, amount):\n",
    "        self.salary += amount"
   ]
  },
  {
   "cell_type": "code",
   "execution_count": 20,
   "metadata": {},
   "outputs": [
    {
     "name": "stdout",
     "output_type": "stream",
     "text": [
      "<__main__.Employee object at 0x7f81daaaa740>\n",
      "<__main__.Employee object at 0x7f81daaaafe0>\n"
     ]
    }
   ],
   "source": [
    "e1 = Employee(101,'John', 'Doe', 10000)\n",
    "e2 = Employee(102, 'Jane', 'Roe', 12000)\n",
    "print(e1)\n",
    "print(e2)"
   ]
  },
  {
   "cell_type": "code",
   "execution_count": 21,
   "metadata": {},
   "outputs": [],
   "source": [
    "e2.promote(20000)"
   ]
  },
  {
   "cell_type": "code",
   "execution_count": 22,
   "metadata": {},
   "outputs": [
    {
     "name": "stdout",
     "output_type": "stream",
     "text": [
      "101 John Doe 10000\n",
      "102 Jane Roe 32000\n"
     ]
    }
   ],
   "source": [
    "for e in [e1,e2]:\n",
    "    print(e.ID, e.first_name, e.last_name, e.salary)"
   ]
  },
  {
   "cell_type": "code",
   "execution_count": 23,
   "metadata": {},
   "outputs": [
    {
     "ename": "TypeError",
     "evalue": "Employee.__init__() missing 1 required positional argument: 'sal'",
     "output_type": "error",
     "traceback": [
      "\u001b[0;31m---------------------------------------------------------------------------\u001b[0m",
      "\u001b[0;31mTypeError\u001b[0m                                 Traceback (most recent call last)",
      "Cell \u001b[0;32mIn[23], line 1\u001b[0m\n\u001b[0;32m----> 1\u001b[0m \u001b[43mEmployee\u001b[49m\u001b[43m(\u001b[49m\u001b[38;5;241;43m101\u001b[39;49m\u001b[43m,\u001b[49m\u001b[38;5;124;43m'\u001b[39;49m\u001b[38;5;124;43mJohn\u001b[39;49m\u001b[38;5;124;43m'\u001b[39;49m\u001b[43m,\u001b[49m\u001b[43m \u001b[49m\u001b[38;5;124;43m'\u001b[39;49m\u001b[38;5;124;43mDoe\u001b[39;49m\u001b[38;5;124;43m'\u001b[39;49m\u001b[43m)\u001b[49m\n",
      "\u001b[0;31mTypeError\u001b[0m: Employee.__init__() missing 1 required positional argument: 'sal'"
     ]
    }
   ],
   "source": [
    "Employee(101,'John', 'Doe')"
   ]
  },
  {
   "cell_type": "markdown",
   "metadata": {},
   "source": [
    "## An Employee class (v2)\n",
    "Assume you wanted to keep track of the employees by putting them in a global list"
   ]
  },
  {
   "cell_type": "code",
   "execution_count": 25,
   "metadata": {},
   "outputs": [],
   "source": [
    "employees = []\n",
    "\n",
    "class Employee:\n",
    "    ID = None\n",
    "    first_name = None\n",
    "    last_name = None\n",
    "    salary = None\n",
    "        \n",
    "    def __init__(self, ID, fn, ln, sal):\n",
    "        self.ID = ID\n",
    "        self.first_name = fn\n",
    "        self.last_name = ln\n",
    "        self.salary = sal\n",
    "        employees.append(self)"
   ]
  },
  {
   "cell_type": "code",
   "execution_count": 26,
   "metadata": {},
   "outputs": [
    {
     "name": "stdout",
     "output_type": "stream",
     "text": [
      "[<__main__.Employee object at 0x7f81daa7ba90>, <__main__.Employee object at 0x7f81daa7b8b0>] \n",
      "\n",
      "201 John Doe 10000\n",
      "202 Jane Roe 12000\n"
     ]
    }
   ],
   "source": [
    "e3 = Employee(201,'John', 'Doe', 10000)\n",
    "e4 = Employee(202, 'Jane', 'Roe', 12000)\n",
    "\n",
    "print(employees, '\\n')\n",
    "\n",
    "for e in employees:\n",
    "    print(e.ID, e.first_name, e.last_name, e.salary)"
   ]
  },
  {
   "cell_type": "markdown",
   "metadata": {},
   "source": [
    "## An Employee class (v3)\n",
    "Now you want the employe number to be assigned automatically (so that there are no errors)"
   ]
  },
  {
   "cell_type": "code",
   "execution_count": 27,
   "metadata": {},
   "outputs": [],
   "source": [
    "employees = []\n",
    "\n",
    "emp_id = 1000\n",
    "\n",
    "class Employee:\n",
    "    ID = None\n",
    "    first_name = None\n",
    "    last_name = None\n",
    "    salary = None\n",
    "        \n",
    "    def __init__ (self, fn, ln, sal):  # no ID as argument\n",
    "        global emp_id\n",
    "        emp_id += 1\n",
    "        self.ID = emp_id               # ID comes from the global emp_id\n",
    "        self.first_name = fn\n",
    "        self.last_name = ln\n",
    "        self.salary = sal\n",
    "        employees.append(self)\n",
    "        "
   ]
  },
  {
   "cell_type": "code",
   "execution_count": 28,
   "metadata": {
    "scrolled": true
   },
   "outputs": [
    {
     "name": "stdout",
     "output_type": "stream",
     "text": [
      "1001 John Doe 10000\n",
      "1002 Jane Roe 12000\n",
      "1003 Jill Moe 15000\n"
     ]
    }
   ],
   "source": [
    "e5 = Employee('John', 'Doe', 10000)\n",
    "e6 = Employee('Jane', 'Roe', 12000)\n",
    "e7 = Employee('Jill', 'Moe', 15000)\n",
    "\n",
    "for e in employees:\n",
    "    print(e.ID, e.first_name, e.last_name, e.salary)"
   ]
  },
  {
   "cell_type": "code",
   "execution_count": 30,
   "metadata": {},
   "outputs": [
    {
     "name": "stdout",
     "output_type": "stream",
     "text": [
      "[<__main__.Employee object at 0x7f81daa63700>, <__main__.Employee object at 0x7f81daa63c70>, <__main__.Employee object at 0x7f81daa63160>]\n",
      "1003\n"
     ]
    }
   ],
   "source": [
    "print(employees)\n",
    "print(emp_id)"
   ]
  },
  {
   "cell_type": "code",
   "execution_count": 32,
   "metadata": {},
   "outputs": [
    {
     "name": "stdout",
     "output_type": "stream",
     "text": [
      "<__main__.Employee object at 0x7f81daaaa740> 101 John Doe 10000\n",
      "<__main__.Employee object at 0x7f81daaaafe0> 102 Jane Roe 32000\n",
      "<__main__.Employee object at 0x7f81daa7ba90> 201 John Doe 10000\n",
      "<__main__.Employee object at 0x7f81daa7b8b0> 202 Jane Roe 12000\n",
      "<__main__.Employee object at 0x7f81daa63700> 1001 John Doe 10000\n",
      "<__main__.Employee object at 0x7f81daa63c70> 1002 Jane Roe 12000\n",
      "<__main__.Employee object at 0x7f81daa63160> 1003 Jill Moe 15000\n"
     ]
    }
   ],
   "source": [
    "for e in [e1,e2,e3,e4,e5,e6,e7]:\n",
    "    print(e, e.ID, e.first_name, e.last_name, e.salary)"
   ]
  },
  {
   "cell_type": "markdown",
   "metadata": {},
   "source": [
    "Note that objects with ids 101 and 1001 are distinc objects, even if the have the same name and salary. Same for 102 and 1002."
   ]
  },
  {
   "cell_type": "code",
   "execution_count": 33,
   "metadata": {
    "scrolled": true
   },
   "outputs": [
    {
     "name": "stdout",
     "output_type": "stream",
     "text": [
      "<__main__.Employee object at 0x7f81daaaa740>\n",
      "140195696125760 0x7f81daaaa740\n",
      "101 John Doe 10000\n",
      "<__main__.Employee object at 0x7f81daaaafe0>\n",
      "140195696127968 0x7f81daaaafe0\n",
      "102 Jane Roe 32000\n",
      "<__main__.Employee object at 0x7f81daa7ba90>\n",
      "140195695934096 0x7f81daa7ba90\n",
      "201 John Doe 10000\n",
      "<__main__.Employee object at 0x7f81daa7b8b0>\n",
      "140195695933616 0x7f81daa7b8b0\n",
      "202 Jane Roe 12000\n",
      "<__main__.Employee object at 0x7f81daa63700>\n",
      "140195695834880 0x7f81daa63700\n",
      "1001 John Doe 10000\n",
      "<__main__.Employee object at 0x7f81daa63c70>\n",
      "140195695836272 0x7f81daa63c70\n",
      "1002 Jane Roe 12000\n",
      "<__main__.Employee object at 0x7f81daa63160>\n",
      "140195695833440 0x7f81daa63160\n",
      "1003 Jill Moe 15000\n"
     ]
    }
   ],
   "source": [
    "for e in [e1,e2,e3,e4,e5,e6,e7]:\n",
    "    print(e)\n",
    "    print(id(e), hex(id(e)))  # gives the memory location of e1 \n",
    "    print(e.ID, e.first_name, e.last_name, e.salary)"
   ]
  },
  {
   "cell_type": "markdown",
   "metadata": {},
   "source": [
    "(back to slides)"
   ]
  },
  {
   "cell_type": "markdown",
   "metadata": {},
   "source": [
    "# Inheritance"
   ]
  },
  {
   "cell_type": "code",
   "execution_count": 34,
   "metadata": {},
   "outputs": [],
   "source": [
    "class PartyAnimal:\n",
    "    x = 0\n",
    "    name = \"\"\n",
    "    def __init__(self, nm):\n",
    "        self.name = nm\n",
    "        print(self.name, \"constructed\")\n",
    "    def party(self):\n",
    "        self.x = self.x + 1\n",
    "        print(self.name, \"party count\", self.x)\n",
    "\n",
    "class FootballFan(PartyAnimal):\n",
    "    points = 0\n",
    "    def touchdown(self):\n",
    "        self.points = self.points + 7\n",
    "        self.party()\n",
    "        print(self.name, \"points\", self.points)"
   ]
  },
  {
   "cell_type": "code",
   "execution_count": 35,
   "metadata": {},
   "outputs": [
    {
     "name": "stdout",
     "output_type": "stream",
     "text": [
      "Sally constructed\n",
      "Sally party count 1\n"
     ]
    }
   ],
   "source": [
    "s = PartyAnimal(\"Sally\")\n",
    "s.party()"
   ]
  },
  {
   "cell_type": "code",
   "execution_count": 36,
   "metadata": {},
   "outputs": [
    {
     "name": "stdout",
     "output_type": "stream",
     "text": [
      "Jim constructed\n",
      "Jim party count 1\n",
      "points: 0\n",
      "Jim party count 2\n",
      "Jim points 7\n"
     ]
    }
   ],
   "source": [
    "j = FootballFan(\"Jim\")\n",
    "j.party()\n",
    "print('points:', j.points)\n",
    "j.touchdown()"
   ]
  },
  {
   "cell_type": "code",
   "execution_count": 37,
   "metadata": {},
   "outputs": [
    {
     "name": "stdout",
     "output_type": "stream",
     "text": [
      "Jim party count 3\n",
      "Jim points 14\n"
     ]
    }
   ],
   "source": [
    "j.touchdown()"
   ]
  },
  {
   "cell_type": "markdown",
   "metadata": {},
   "source": [
    "### A Student is a subclass of Person\n",
    "<img src=\"person-student.png\" width=\"300\" >"
   ]
  },
  {
   "cell_type": "code",
   "execution_count": 38,
   "metadata": {},
   "outputs": [],
   "source": [
    "class Person:\n",
    "    def __init__(self, name: str, age: int):\n",
    "        self.name = name\n",
    "        self.age = age\n",
    "    def get_details(self) -> str:\n",
    "        return f\"Name: {self.name}, Age: {self.age}\""
   ]
  },
  {
   "cell_type": "code",
   "execution_count": 39,
   "metadata": {},
   "outputs": [
    {
     "name": "stdout",
     "output_type": "stream",
     "text": [
      "Name: John Doe, Age: 30\n"
     ]
    }
   ],
   "source": [
    "p1 = Person(\"John Doe\", 30)\n",
    "print(p1.get_details())"
   ]
  },
  {
   "cell_type": "code",
   "execution_count": 40,
   "metadata": {},
   "outputs": [
    {
     "data": {
      "text/html": [
       "<iframe width=\"1100\" height=\"500\" frameborder=\"0\" src=\"https://pythontutor.com/iframe-embed.html#code=class%20Person%3A%0A%20%20%20%20def%20__init__%28self,%20name%3A%20str,%20age%3A%20int%29%3A%0A%20%20%20%20%20%20%20%20self.name%20%3D%20name%0A%20%20%20%20%20%20%20%20self.age%20%3D%20age%0A%20%20%20%20def%20get_details%28self%29%20-%3E%20str%3A%0A%20%20%20%20%20%20%20%20return%20f%22Name%3A%20%7Bself.name%7D,%20Age%3A%20%7Bself.age%7D%22%0A%0Ap1%20%3D%20Person%28%22John%20Doe%22,%2030%29%0Aprint%28p1.get_details%28%29%29&codeDivHeight=400&codeDivWidth=350&cumulative=false&curInstr=0&heapPrimitives=nevernest&origin=opt-frontend.js&py=311&rawInputLstJSON=%5B%5D&textReferences=false\"> </iframe>\n"
      ],
      "text/plain": [
       "<IPython.core.display.HTML object>"
      ]
     },
     "metadata": {},
     "output_type": "display_data"
    }
   ],
   "source": [
    "%%HTML\n",
    "<iframe width=\"1100\" height=\"500\" frameborder=\"0\" src=\"https://pythontutor.com/iframe-embed.html#code=class%20Person%3A%0A%20%20%20%20def%20__init__%28self,%20name%3A%20str,%20age%3A%20int%29%3A%0A%20%20%20%20%20%20%20%20self.name%20%3D%20name%0A%20%20%20%20%20%20%20%20self.age%20%3D%20age%0A%20%20%20%20def%20get_details%28self%29%20-%3E%20str%3A%0A%20%20%20%20%20%20%20%20return%20f%22Name%3A%20%7Bself.name%7D,%20Age%3A%20%7Bself.age%7D%22%0A%0Ap1%20%3D%20Person%28%22John%20Doe%22,%2030%29%0Aprint%28p1.get_details%28%29%29&codeDivHeight=400&codeDivWidth=350&cumulative=false&curInstr=0&heapPrimitives=nevernest&origin=opt-frontend.js&py=311&rawInputLstJSON=%5B%5D&textReferences=false\"> </iframe>\n"
   ]
  },
  {
   "cell_type": "code",
   "execution_count": 42,
   "metadata": {},
   "outputs": [],
   "source": [
    "class Student(Person):\n",
    "    def __init__(self, name: str, age: int, student_id: int, course: str):\n",
    "        super().__init__(name, age)\n",
    "        self.student_id = student_id\n",
    "        self.course = course\n",
    "        self.chapters_studied = 0\n",
    "    def get_student_details(self) -> str:\n",
    "\t    person_details = super().get_details()\n",
    "\t    return f\"{person_details}, Student ID: {self.student_id}, Course: {self.course}\"\n",
    "    def study(self, chapters: int = 1):\n",
    "        \"\"\"Increment the chapters_studied counter\"\"\"\n",
    "        self.chapters_studied += chapters"
   ]
  },
  {
   "cell_type": "code",
   "execution_count": 45,
   "metadata": {},
   "outputs": [
    {
     "name": "stdout",
     "output_type": "stream",
     "text": [
      "Name: Alice Smith, Age: 20, Student ID: 1412325523, Course: DSCI510\n",
      "Alice Smith has studied 7 chapters\n"
     ]
    }
   ],
   "source": [
    "s1 = Student(\"Alice Smith\", 20, 1412325523, \"DSCI510\")\n",
    "print(s1.get_student_details())\n",
    "s1.study(7)\n",
    "print(f'{s1.name} has studied {s1.chapters_studied} chapters')"
   ]
  },
  {
   "cell_type": "code",
   "execution_count": 44,
   "metadata": {},
   "outputs": [
    {
     "data": {
      "text/html": [
       "<iframe width=\"1200\" height=\"900\" frameborder=\"0\" src=\"https://pythontutor.com/iframe-embed.html#code=class%20Person%3A%0A%20%20%20%20def%20__init__%28self,%20name%3A%20str,%20age%3A%20int%29%3A%0A%20%20%20%20%20%20%20%20self.name%20%3D%20name%0A%20%20%20%20%20%20%20%20self.age%20%3D%20age%0A%20%20%20%20def%20get_details%28self%29%20-%3E%20str%3A%0A%20%20%20%20%20%20%20%20return%20f%22Name%3A%20%7Bself.name%7D,%20Age%3A%20%7Bself.age%7D%22%0A%20%20%20%20%20%20%20%20%0Aclass%20Student%28Person%29%3A%0A%20%20%20%20def%20__init__%28self,%20name%3A%20str,%20age%3A%20int,%20student_id%3A%20int,%20course%3A%20str%29%3A%0A%20%20%20%20%20%20%20%20super%28%29.__init__%28name,%20age%29%0A%20%20%20%20%20%20%20%20self.student_id%20%3D%20student_id%0A%20%20%20%20%20%20%20%20self.course%20%3D%20course%0A%20%20%20%20%20%20%20%20self.chapters_studied%20%3D%200%0A%20%20%20%20def%20get_student_details%28self%29%20-%3E%20str%3A%0A%20%20%20%20%20%20%20%20person_details%20%3D%20super%28%29.get_details%28%29%0A%20%20%20%20%20%20%20%20return%20f%22%7Bperson_details%7D,%20Student%20ID%3A%20%7Bself.student_id%7D,%20Course%3A%20%7Bself.course%7D%22%0A%20%20%20%20def%20study%28self,%20chapters%3A%20int%20%3D%201%29%3A%0A%20%20%20%20%20%20%20%20%22%22%22Increment%20the%20chapters_studied%20counter%22%22%22%0A%20%20%20%20%20%20%20%20self.chapters_studied%20%2B%3D%20chapters%0A%20%20%20%20%20%20%20%20%0As1%20%3D%20Student%28%22Alice%20Smith%22,%2020,%201412325523,%20%22DSCI510%22%29%0Aprint%28s1.get_student_details%28%29%29%0As1.study%287%29%0Aprint%28f'%7Bs1.name%7D%20has%20studied%20%7Bs1.chapters_studied%7D%20chapters'%29&codeDivHeight=400&codeDivWidth=350&cumulative=false&curInstr=0&heapPrimitives=nevernest&origin=opt-frontend.js&py=311&rawInputLstJSON=%5B%5D&textReferences=false\"> </iframe>\n"
      ],
      "text/plain": [
       "<IPython.core.display.HTML object>"
      ]
     },
     "metadata": {},
     "output_type": "display_data"
    }
   ],
   "source": [
    "%%HTML\n",
    "<iframe width=\"1200\" height=\"900\" frameborder=\"0\" src=\"https://pythontutor.com/iframe-embed.html#code=class%20Person%3A%0A%20%20%20%20def%20__init__%28self,%20name%3A%20str,%20age%3A%20int%29%3A%0A%20%20%20%20%20%20%20%20self.name%20%3D%20name%0A%20%20%20%20%20%20%20%20self.age%20%3D%20age%0A%20%20%20%20def%20get_details%28self%29%20-%3E%20str%3A%0A%20%20%20%20%20%20%20%20return%20f%22Name%3A%20%7Bself.name%7D,%20Age%3A%20%7Bself.age%7D%22%0A%20%20%20%20%20%20%20%20%0Aclass%20Student%28Person%29%3A%0A%20%20%20%20def%20__init__%28self,%20name%3A%20str,%20age%3A%20int,%20student_id%3A%20int,%20course%3A%20str%29%3A%0A%20%20%20%20%20%20%20%20super%28%29.__init__%28name,%20age%29%0A%20%20%20%20%20%20%20%20self.student_id%20%3D%20student_id%0A%20%20%20%20%20%20%20%20self.course%20%3D%20course%0A%20%20%20%20%20%20%20%20self.chapters_studied%20%3D%200%0A%20%20%20%20def%20get_student_details%28self%29%20-%3E%20str%3A%0A%20%20%20%20%20%20%20%20person_details%20%3D%20super%28%29.get_details%28%29%0A%20%20%20%20%20%20%20%20return%20f%22%7Bperson_details%7D,%20Student%20ID%3A%20%7Bself.student_id%7D,%20Course%3A%20%7Bself.course%7D%22%0A%20%20%20%20def%20study%28self,%20chapters%3A%20int%20%3D%201%29%3A%0A%20%20%20%20%20%20%20%20%22%22%22Increment%20the%20chapters_studied%20counter%22%22%22%0A%20%20%20%20%20%20%20%20self.chapters_studied%20%2B%3D%20chapters%0A%20%20%20%20%20%20%20%20%0As1%20%3D%20Student%28%22Alice%20Smith%22,%2020,%201412325523,%20%22DSCI510%22%29%0Aprint%28s1.get_student_details%28%29%29%0As1.study%287%29%0Aprint%28f'%7Bs1.name%7D%20has%20studied%20%7Bs1.chapters_studied%7D%20chapters'%29&codeDivHeight=400&codeDivWidth=350&cumulative=false&curInstr=0&heapPrimitives=nevernest&origin=opt-frontend.js&py=311&rawInputLstJSON=%5B%5D&textReferences=false\"> </iframe>\n"
   ]
  },
  {
   "cell_type": "code",
   "execution_count": 46,
   "metadata": {},
   "outputs": [
    {
     "name": "stdout",
     "output_type": "stream",
     "text": [
      "Alice Smith has studied 8 chapters\n"
     ]
    }
   ],
   "source": [
    "s1.study()\n",
    "print(f'{s1.name} has studied {s1.chapters_studied} chapters')"
   ]
  },
  {
   "cell_type": "code",
   "execution_count": null,
   "metadata": {},
   "outputs": [],
   "source": []
  }
 ],
 "metadata": {
  "anaconda-cloud": {},
  "kernelspec": {
   "display_name": "Python 3 (ipykernel)",
   "language": "python",
   "name": "python3"
  },
  "language_info": {
   "codemirror_mode": {
    "name": "ipython",
    "version": 3
   },
   "file_extension": ".py",
   "mimetype": "text/x-python",
   "name": "python",
   "nbconvert_exporter": "python",
   "pygments_lexer": "ipython3",
   "version": "3.11.3"
  }
 },
 "nbformat": 4,
 "nbformat_minor": 4
}
