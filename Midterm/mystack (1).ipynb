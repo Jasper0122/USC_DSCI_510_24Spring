{
 "cells": [
  {
   "cell_type": "code",
   "execution_count": 1,
   "id": "8c9d6cc7-e5e4-4850-9768-377df5c7b973",
   "metadata": {},
   "outputs": [],
   "source": [
    "from typing import Optional\n",
    "\n",
    "class MyStack:\n",
    "    def __init__(self):\n",
    "        self.stack = []\n",
    "    \n",
    "    def is_empty(self) -> bool:\n",
    "        return len(self.stack) == 0\n",
    "    \n",
    "    def push(self, item: int) -> None:\n",
    "        self.stack.append(item)\n",
    "        \n",
    "    def pop(self) -> int:\n",
    "        if not self.is_empty():\n",
    "            return self.stack.pop()\n",
    "        else:\n",
    "            raise Exception('The MyStack is empty. No more pop operations can be performed.')\n",
    "\n",
    "    def min(self) -> Optional[int]:\n",
    "        return min(self.stack) if not self.is_empty() else None\n",
    "    \n",
    "    def max(self) -> Optional[int]:\n",
    "        return max(self.stack) if not self.is_empty() else None\n",
    "        \n",
    "    def __str__(self):\n",
    "        return ' -> '.join((str(e) for e in self.stack[::-1]))"
   ]
  },
  {
   "cell_type": "code",
   "execution_count": 2,
   "id": "250c26e4-6d53-46ec-ad9c-27f6e84e3e17",
   "metadata": {},
   "outputs": [
    {
     "name": "stdout",
     "output_type": "stream",
     "text": [
      "30 -> 20 -> 10\n",
      "Pop: 30\n",
      "20 -> 10\n",
      "False\n"
     ]
    }
   ],
   "source": [
    "a_stack = MyStack()\n",
    "a_stack.push(10)\n",
    "a_stack.push(20)\n",
    "a_stack.push(30)\n",
    "print(a_stack)\n",
    "print('Pop:', a_stack.pop())\n",
    "print(a_stack)\n",
    "print(a_stack.is_empty())"
   ]
  },
  {
   "cell_type": "code",
   "execution_count": 3,
   "id": "d925179c-8531-41a7-93bc-eeedc7027bd9",
   "metadata": {},
   "outputs": [
    {
     "name": "stdout",
     "output_type": "stream",
     "text": [
      "90 -> 12 -> 33\n",
      "Pop: 90\n",
      "12 -> 33\n",
      "False\n"
     ]
    }
   ],
   "source": [
    "b_stack = MyStack()\n",
    "b_stack.push(33)\n",
    "b_stack.push(12)\n",
    "b_stack.push(90)\n",
    "print(b_stack)\n",
    "print('Pop:', b_stack.pop())\n",
    "print(b_stack)\n",
    "print(b_stack.is_empty())"
   ]
  },
  {
   "cell_type": "code",
   "execution_count": 4,
   "id": "cb52cf6a-443f-4b92-8c95-ae986079ae23",
   "metadata": {},
   "outputs": [
    {
     "name": "stdout",
     "output_type": "stream",
     "text": [
      "Pop: 12\n",
      "Pop: 33\n"
     ]
    }
   ],
   "source": [
    "print('Pop:', b_stack.pop())\n",
    "print('Pop:', b_stack.pop())"
   ]
  },
  {
   "cell_type": "code",
   "execution_count": 6,
   "id": "aa6a373c-bc41-4369-9856-e26c460cc0ce",
   "metadata": {},
   "outputs": [
    {
     "ename": "Exception",
     "evalue": "The MyStack is empty. No more pop operations can be performed.",
     "output_type": "error",
     "traceback": [
      "\u001b[0;31m---------------------------------------------------------------------------\u001b[0m",
      "\u001b[0;31mException\u001b[0m                                 Traceback (most recent call last)",
      "Cell \u001b[0;32mIn[6], line 1\u001b[0m\n\u001b[0;32m----> 1\u001b[0m \u001b[43mb_stack\u001b[49m\u001b[38;5;241;43m.\u001b[39;49m\u001b[43mpop\u001b[49m\u001b[43m(\u001b[49m\u001b[43m)\u001b[49m\n",
      "Cell \u001b[0;32mIn[1], line 17\u001b[0m, in \u001b[0;36mMyStack.pop\u001b[0;34m(self)\u001b[0m\n\u001b[1;32m     15\u001b[0m     \u001b[38;5;28;01mreturn\u001b[39;00m \u001b[38;5;28mself\u001b[39m\u001b[38;5;241m.\u001b[39mstack\u001b[38;5;241m.\u001b[39mpop()\n\u001b[1;32m     16\u001b[0m \u001b[38;5;28;01melse\u001b[39;00m:\n\u001b[0;32m---> 17\u001b[0m     \u001b[38;5;28;01mraise\u001b[39;00m \u001b[38;5;167;01mException\u001b[39;00m(\u001b[38;5;124m'\u001b[39m\u001b[38;5;124mThe MyStack is empty. No more pop operations can be performed.\u001b[39m\u001b[38;5;124m'\u001b[39m)\n",
      "\u001b[0;31mException\u001b[0m: The MyStack is empty. No more pop operations can be performed."
     ]
    }
   ],
   "source": [
    "b_stack.pop()"
   ]
  },
  {
   "cell_type": "code",
   "execution_count": 8,
   "id": "db3dd437-6450-4660-bfb4-6406fd90befd",
   "metadata": {},
   "outputs": [
    {
     "name": "stdout",
     "output_type": "stream",
     "text": [
      "Empty, no more pops\n"
     ]
    }
   ],
   "source": [
    "try:\n",
    "    b_stack.pop()\n",
    "except:\n",
    "    print('Empty, no more pops')"
   ]
  },
  {
   "cell_type": "code",
   "execution_count": null,
   "id": "6610ee26-8b41-4f00-bcd8-abfc90d4242d",
   "metadata": {},
   "outputs": [],
   "source": []
  }
 ],
 "metadata": {
  "kernelspec": {
   "display_name": "Python 3 (ipykernel)",
   "language": "python",
   "name": "python3"
  },
  "language_info": {
   "codemirror_mode": {
    "name": "ipython",
    "version": 3
   },
   "file_extension": ".py",
   "mimetype": "text/x-python",
   "name": "python",
   "nbconvert_exporter": "python",
   "pygments_lexer": "ipython3",
   "version": "3.10.11"
  }
 },
 "nbformat": 4,
 "nbformat_minor": 5
}
